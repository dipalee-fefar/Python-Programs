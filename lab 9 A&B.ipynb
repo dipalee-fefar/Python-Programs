{
 "cells": [
  {
   "cell_type": "markdown",
   "id": "6b8d5689",
   "metadata": {},
   "source": [
    "___\n",
    "<a href='https://www.darshan.ac.in/'><center> <img width=20% height=20% src='https://www.darshan.ac.in/Content/media/DU_Logo.svg'/></center></a>\n",
    "<pre>\n",
    "<center><b>Python</b></center>\n",
    "<center><b>Lab - 9(FUNCTION)</b></center>    \n",
    "</pre>\n",
    "____"
   ]
  },
  {
   "cell_type": "markdown",
   "id": "a151e51d",
   "metadata": {},
   "source": [
    "<pre>\n",
    "<center><h1>A PROGRAM</h1></center>\n",
    "</pre>"
   ]
  },
  {
   "cell_type": "markdown",
   "id": "14597bba",
   "metadata": {},
   "source": [
    "## 1. WAP to count simple interest using function."
   ]
  },
  {
   "cell_type": "code",
   "execution_count": 3,
   "id": "d5bff785",
   "metadata": {},
   "outputs": [
    {
     "name": "stdout",
     "output_type": "stream",
     "text": [
      "your intrest is : 150.0\n"
     ]
    }
   ],
   "source": [
    "def simple(p,r,n):\n",
    "    return (p*r*n)/100\n",
    "\n",
    "p=int(input(\"Enter p : \"))\n",
    "r=int(input(\"Enter r : \"))\n",
    "n=int(input(\"Enter n : \"))\n",
    "\n",
    "print(\"your interest is :\",simple(p,r,n))"
   ]
  },
  {
   "cell_type": "markdown",
   "id": "3b2fdf4f",
   "metadata": {},
   "source": [
    "## 2. WAP that defines a function to add first n numbers."
   ]
  },
  {
   "cell_type": "code",
   "execution_count": 3,
   "id": "b727e7e7",
   "metadata": {},
   "outputs": [
    {
     "name": "stdout",
     "output_type": "stream",
     "text": [
      "Your addition is :  15\n"
     ]
    }
   ],
   "source": [
    "def add(n):\n",
    "    sum=0\n",
    "    for i in range(n+1):\n",
    "        sum+=i\n",
    "    return sum\n",
    "\n",
    "n=int(input(\"enter limit for addition : \"))\n",
    "\n",
    "print(\"Your addition is : \",add(n))"
   ]
  },
  {
   "cell_type": "markdown",
   "id": "f1fdc1c2",
   "metadata": {},
   "source": [
    "## 3. WAP to find maximum number from given two numbers using function."
   ]
  },
  {
   "cell_type": "code",
   "execution_count": 4,
   "id": "92967f2a",
   "metadata": {},
   "outputs": [
    {
     "name": "stdout",
     "output_type": "stream",
     "text": [
      "Max is :  12\n"
     ]
    }
   ],
   "source": [
    "def max(a,b):\n",
    "    if a > b:\n",
    "        return a\n",
    "    else:\n",
    "        return b\n",
    "\n",
    "a=int(input(\"Enter a number :\"))    \n",
    "b=int(input(\"Enter a number :\")) \n",
    "\n",
    "print(\"Max is : \",max(a,b))"
   ]
  },
  {
   "cell_type": "markdown",
   "id": "56566122",
   "metadata": {},
   "source": [
    "## 4. WAP that defines a function which returns 1 if the number is prime otherwise return 0."
   ]
  },
  {
   "cell_type": "code",
   "execution_count": 5,
   "id": "9defac43",
   "metadata": {},
   "outputs": [
    {
     "name": "stdout",
     "output_type": "stream",
     "text": [
      "Answer is :  1\n"
     ]
    }
   ],
   "source": [
    "def prime(n):\n",
    "    for i in range(2,n):\n",
    "        if n % i ==0:\n",
    "            return 0\n",
    "        else:\n",
    "            return 1\n",
    "\n",
    "n=int(input(\"enter number \"))\n",
    "print(\"Answer is : \", prime(n))        "
   ]
  },
  {
   "cell_type": "markdown",
   "id": "e25cf6fa",
   "metadata": {},
   "source": [
    "## 5. WAP that will scan a character string passed as an argument and convert all lowercase character into their uppercase equivalents using function."
   ]
  },
  {
   "cell_type": "code",
   "execution_count": 4,
   "id": "21f03666",
   "metadata": {},
   "outputs": [
    {
     "name": "stdout",
     "output_type": "stream",
     "text": [
      "Answer is :  HEY\n"
     ]
    }
   ],
   "source": [
    "def case(a):\n",
    "   ans=\"\"\n",
    "   for i in a:\n",
    "      if i.islower():\n",
    "         ans+=i.upper()\n",
    "      else:\n",
    "         ans+=i   \n",
    "   return ans      \n",
    "\n",
    "a=input(\"enter string to convert : \")\n",
    "print(\"Answer is : \", case(a))"
   ]
  },
  {
   "cell_type": "markdown",
   "id": "1b06cd72",
   "metadata": {},
   "source": [
    "## 6. WAP to generate Fibonacci series of N given number using function name fibbo. (e.g. 0 1 1 2 3 5 8...)."
   ]
  },
  {
   "cell_type": "code",
   "execution_count": null,
   "id": "c6a4c1bc",
   "metadata": {},
   "outputs": [
    {
     "name": "stdout",
     "output_type": "stream",
     "text": [
      "0\n",
      "1\n",
      "1\n",
      "2\n",
      "3\n",
      "5\n",
      "8\n",
      "13\n",
      "None\n"
     ]
    }
   ],
   "source": [
    "def fibbo(n):\n",
    "    a=0\n",
    "    b=1\n",
    "    print(a)\n",
    "    print(b)\n",
    "    for i in range(n+1):\n",
    "        c=a+b\n",
    "        a=b\n",
    "        b=c\n",
    "        print(c)\n",
    "\n",
    "n=int(input(\"Enter number\"))\n",
    "fibbo(n)\n",
    "8"
   ]
  },
  {
   "cell_type": "markdown",
   "id": "ab9ddd9e",
   "metadata": {},
   "source": [
    "## 7. WAP to find the factorial of a given number using recursion."
   ]
  },
  {
   "cell_type": "code",
   "execution_count": 12,
   "id": "23de3e6b",
   "metadata": {},
   "outputs": [
    {
     "name": "stdout",
     "output_type": "stream",
     "text": [
      "120\n"
     ]
    }
   ],
   "source": [
    "def recFect(n):\n",
    "    if n==1:\n",
    "        return 1\n",
    "    else:\n",
    "        return n*recFect(n-1)\n",
    "n=int(input(\"enter number : \"))\n",
    "print(recFect(n))   "
   ]
  },
  {
   "cell_type": "markdown",
   "id": "32123720",
   "metadata": {},
   "source": [
    "## 8. WAP to implement simple calculator using lamda function."
   ]
  },
  {
   "cell_type": "code",
   "execution_count": 15,
   "id": "a2c89c00",
   "metadata": {},
   "outputs": [
    {
     "name": "stdout",
     "output_type": "stream",
     "text": [
      "Substraction is :  7.333333333333333\n"
     ]
    }
   ],
   "source": [
    "add = lambda a,b :a+b\n",
    "minus = lambda a,b : a-b\n",
    "multi = lambda a,b: a*b\n",
    "divide = lambda a,b :a/b if b!=0 else print(\"Zero Division Error\")\n",
    "\n",
    "a=int(input(\"enter value : \"))\n",
    "b=int(input(\"enter value : \"))\n",
    "\n",
    "c=input(\"Enter your Operator + - * / \" )\n",
    "\n",
    "if c=='+':\n",
    "    print(\"Addition is : \",add(a,b))\n",
    "elif c=='-':\n",
    "     print(\"Substraction is : \",minus(a,b))\n",
    "elif c=='*':\n",
    "     print(\"Substraction is : \",multi(a,b))\n",
    "elif c=='/':\n",
    "     print(\"Substraction is : \",divide(a,b))\n",
    "else:\n",
    "     print(\"plz enter valid operator\")\n",
    "    "
   ]
  },
  {
   "cell_type": "markdown",
   "id": "f8e624d4",
   "metadata": {},
   "source": [
    "## 9. WAP to generate Fibonacci series of N given number using function using Recursion."
   ]
  },
  {
   "cell_type": "code",
   "execution_count": 21,
   "id": "e99052ad",
   "metadata": {},
   "outputs": [
    {
     "name": "stdout",
     "output_type": "stream",
     "text": [
      "0 1 1 2 3 5 "
     ]
    }
   ],
   "source": [
    "def recFibbo(n,a=0,b=1):\n",
    "    if n == 0:\n",
    "        print(a, end=\" \")\n",
    "    elif n ==1:\n",
    "        print(a,b, end=\" \")\n",
    "    else:\n",
    "        print(a, end=\" \")\n",
    "        recFibbo(n-1,b,a+b)\n",
    "\n",
    "n=int(input(\"enter number \"))\n",
    "recFibbo(n)        "
   ]
  },
  {
   "cell_type": "markdown",
   "id": "e94a0cdf",
   "metadata": {},
   "source": [
    "## 10. WAP to create two swap functions for swapping two lists to demonstrate call by value and call by reference in Python."
   ]
  },
  {
   "cell_type": "code",
   "execution_count": null,
   "id": "e440a364",
   "metadata": {},
   "outputs": [],
   "source": []
  },
  {
   "cell_type": "markdown",
   "id": "aadf4be8",
   "metadata": {},
   "source": [
    "\n"
   ]
  },
  {
   "cell_type": "markdown",
   "id": "5e934833",
   "metadata": {},
   "source": [
    "<pre>\n",
    "<center><h1>B PROGRAM</h1></center>\n",
    "</pre>"
   ]
  },
  {
   "cell_type": "markdown",
   "id": "726c19ad",
   "metadata": {},
   "source": [
    "## 1. WAP to convert decimal number into binary using recursion."
   ]
  },
  {
   "cell_type": "code",
   "execution_count": null,
   "id": "0f16403f",
   "metadata": {},
   "outputs": [],
   "source": []
  },
  {
   "cell_type": "markdown",
   "id": "48b57571",
   "metadata": {},
   "source": [
    "## 2. WAP to calculate power of a number using recursion. "
   ]
  },
  {
   "cell_type": "code",
   "execution_count": null,
   "id": "d8f551cf",
   "metadata": {},
   "outputs": [],
   "source": []
  },
  {
   "cell_type": "markdown",
   "id": "652f1db4",
   "metadata": {},
   "source": [
    "## 3. WAP to count digits of a number using recursion."
   ]
  },
  {
   "cell_type": "code",
   "execution_count": null,
   "id": "dc3c6182",
   "metadata": {},
   "outputs": [],
   "source": []
  },
  {
   "cell_type": "markdown",
   "id": "f19c3c8a",
   "metadata": {},
   "source": [
    "## 4. WAP to reverse an integer number using recursion."
   ]
  },
  {
   "cell_type": "code",
   "execution_count": null,
   "id": "c2d63576",
   "metadata": {},
   "outputs": [],
   "source": []
  },
  {
   "cell_type": "markdown",
   "id": "2ed25af7",
   "metadata": {},
   "source": [
    "## 5. WAP to check a given number is prime or not using recursion."
   ]
  },
  {
   "cell_type": "code",
   "execution_count": null,
   "id": "0ca68e9b",
   "metadata": {},
   "outputs": [],
   "source": []
  }
 ],
 "metadata": {
  "kernelspec": {
   "display_name": "Python 3 (ipykernel)",
   "language": "python",
   "name": "python3"
  },
  "language_info": {
   "codemirror_mode": {
    "name": "ipython",
    "version": 3
   },
   "file_extension": ".py",
   "mimetype": "text/x-python",
   "name": "python",
   "nbconvert_exporter": "python",
   "pygments_lexer": "ipython3",
   "version": "3.12.0"
  }
 },
 "nbformat": 4,
 "nbformat_minor": 5
}
