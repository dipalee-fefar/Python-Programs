{
 "cells": [
  {
   "cell_type": "markdown",
   "id": "ffd876bb",
   "metadata": {},
   "source": [
    "##  WAP to add two numbers entered by user."
   ]
  },
  {
   "cell_type": "code",
   "execution_count": 2,
   "id": "2d05cb2d",
   "metadata": {},
   "outputs": [
    {
     "name": "stdout",
     "output_type": "stream",
     "text": [
      "enter your first number1\n",
      "enter your second number8\n",
      "9\n"
     ]
    }
   ],
   "source": [
    "n1=int(input(\"enter your first number\"))\n",
    "n2=int(input(\"enter your second number\"))\n",
    "n3= n1+n2\n",
    "print(n3)"
   ]
  },
  {
   "cell_type": "markdown",
   "id": "85e6cd49",
   "metadata": {},
   "source": [
    "## WAP to calculate simple interest."
   ]
  },
  {
   "cell_type": "code",
   "execution_count": 4,
   "id": "71873215",
   "metadata": {},
   "outputs": [
    {
     "name": "stdout",
     "output_type": "stream",
     "text": [
      "enter your p10\n",
      "enter your r20\n",
      "enter your n30\n",
      "60.0\n"
     ]
    }
   ],
   "source": [
    "p=int(input(\"enter your p\"))\n",
    "r=int(input(\"enter your r\"))\n",
    "n=int(input(\"enter your n\"))\n",
    "interest = (p*r*n)/100\n",
    "print (interest)"
   ]
  },
  {
   "cell_type": "markdown",
   "id": "6c55be84",
   "metadata": {},
   "source": [
    "## WAP to calculate area of circle."
   ]
  },
  {
   "cell_type": "code",
   "execution_count": 5,
   "id": "96d38160",
   "metadata": {},
   "outputs": [
    {
     "name": "stdout",
     "output_type": "stream",
     "text": [
      "enter your radius5\n",
      "78.5\n"
     ]
    }
   ],
   "source": [
    "r=int(input(\"enter your radius\"))\n",
    "pi=3.14\n",
    "area = 0.0\n",
    "area = pi*r*r\n",
    "print(area)"
   ]
  },
  {
   "cell_type": "markdown",
   "id": "5d410a9c",
   "metadata": {},
   "source": [
    "## WAP to print Multiplication table of given number.(using print only)"
   ]
  },
  {
   "cell_type": "code",
   "execution_count": 1,
   "id": "c739c5b6",
   "metadata": {},
   "outputs": [
    {
     "name": "stdout",
     "output_type": "stream",
     "text": [
      "Enter number9\n",
      "9*1=9\n",
      "9*2=18\n",
      "9*3=27\n",
      "9*4=36\n",
      "9*5=45\n",
      "9*6=54\n",
      "9*7=63\n",
      "9*8=72\n",
      "9*9=81\n",
      "9*10=90\n"
     ]
    }
   ],
   "source": [
    "n1=int(input(\"Enter number\"))\n",
    "for i in range(1,11):\n",
    "    print(f\"{n1}*{i}={n1*i}\")"
   ]
  },
  {
   "cell_type": "markdown",
   "id": "1623ac54",
   "metadata": {},
   "source": [
    "## WAP to calculate Area of Triangle (hint: a = (h)(b)0.5)."
   ]
  },
  {
   "cell_type": "code",
   "execution_count": 7,
   "id": "fe8827bb",
   "metadata": {},
   "outputs": [
    {
     "name": "stdout",
     "output_type": "stream",
     "text": [
      "enter your height9\n",
      "enter your redius4\n",
      "18.0\n"
     ]
    }
   ],
   "source": [
    "h=int(input(\"enter your height\"))\n",
    "b=int(input(\"enter your redius\"))\n",
    "area = (h*b*0.5)\n",
    "print(area)"
   ]
  },
  {
   "cell_type": "markdown",
   "id": "15f32647",
   "metadata": {},
   "source": [
    "## WAP to convert seconds into hours, minutes & seconds and print in HH:MM:SS [e.g. 10000 seconds mean 2:46:40 (2 Hours, 46 Minutes, 40 Seconds)]."
   ]
  },
  {
   "cell_type": "code",
   "execution_count": 16,
   "id": "70eaf8e8",
   "metadata": {},
   "outputs": [
    {
     "name": "stdout",
     "output_type": "stream",
     "text": [
      "enter your seconds10000\n",
      "2 Hours 46 Minutes 40 Seconds\n"
     ]
    }
   ],
   "source": [
    "seconds=int(input(\"enter your seconds\"))\n",
    "hours = seconds // 3600\n",
    "minutes = (seconds % 3600) // 60\n",
    "remaining_seconds = seconds % 60\n",
    "print(hours,\"Hours\",minutes,\"Minutes\",remaining_seconds,\"Seconds\")"
   ]
  },
  {
   "cell_type": "markdown",
   "id": "54a48598",
   "metadata": {},
   "source": [
    " WAP to enter distance into kilometer and convert it into meter, feet, inches, and centimeter."
   ]
  },
  {
   "cell_type": "code",
   "execution_count": 31,
   "id": "2e3e1e29",
   "metadata": {},
   "outputs": [
    {
     "name": "stdout",
     "output_type": "stream",
     "text": [
      "enter your kilometers1\n",
      "meter is :  1000\n",
      "feet is :  3280.84\n",
      "inches is :  39370.1\n",
      "centimeters is :  100000\n"
     ]
    }
   ],
   "source": [
    "kilometers=int(input(\"enter your kilometers\"))\n",
    "meters = kilometers * 1000  \n",
    "feet = kilometers * 3280.84\n",
    "inches = kilometers * 39370.1\n",
    "centimeters = kilometers * 100000  \n",
    "\n",
    "print(\"meter is : \",meters)\n",
    "print(\"feet is : \",feet)\n",
    "print(\"inches is : \",inches)\n",
    "print(\"centimeters is : \",centimeters)\n"
   ]
  },
  {
   "cell_type": "code",
   "execution_count": null,
   "id": "607ded29",
   "metadata": {},
   "outputs": [],
   "source": []
  }
 ],
 "metadata": {
  "kernelspec": {
   "display_name": "Python 3 (ipykernel)",
   "language": "python",
   "name": "python3"
  },
  "language_info": {
   "codemirror_mode": {
    "name": "ipython",
    "version": 3
   },
   "file_extension": ".py",
   "mimetype": "text/x-python",
   "name": "python",
   "nbconvert_exporter": "python",
   "pygments_lexer": "ipython3",
   "version": "3.11.5"
  }
 },
 "nbformat": 4,
 "nbformat_minor": 5
}
