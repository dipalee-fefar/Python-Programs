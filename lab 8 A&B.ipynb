{
 "cells": [
  {
   "attachments": {},
   "cell_type": "markdown",
   "id": "9beed2ae",
   "metadata": {},
   "source": [
    "___\n",
    "<a href='https://www.darshan.ac.in/'><center> <img width=20% height=20% src='https://www.darshan.ac.in/Content/media/DU_Logo.svg'/></center></a>\n",
    "<pre>\n",
    "<center><b>Python</b></center>\n",
    "<center><b>Lab - 8(TUPLE & SET)</b></center>    \n",
    "</pre>\n",
    "____"
   ]
  },
  {
   "attachments": {},
   "cell_type": "markdown",
   "id": "a40be900",
   "metadata": {},
   "source": [
    "<pre>\n",
    "<center><h1>A PROGRAM</h1></center>\n",
    "</pre>"
   ]
  },
  {
   "attachments": {},
   "cell_type": "markdown",
   "id": "ef5cee99",
   "metadata": {},
   "source": [
    "## 1. WAP to enter values and reverse the tuple."
   ]
  },
  {
   "cell_type": "code",
   "execution_count": 3,
   "id": "985c7a6d",
   "metadata": {},
   "outputs": [
    {
     "name": "stdout",
     "output_type": "stream",
     "text": [
      "Normal Tuple is  ('jahir', 'harsh', 'vivek', 'kunuu')\n",
      "Reverse Tuple is  ('kunuu', 'vivek', 'harsh', 'jahir')\n"
     ]
    }
   ],
   "source": [
    "s=int(input(\"enter size of touple \"))\n",
    "lst=[]\n",
    "\n",
    "for i in range(s):\n",
    "    el=input(\"Enter element in touple\")\n",
    "    lst.append(el)\n",
    "\n",
    "tpl=tuple(lst)\n",
    "print(\"Normal Tuple is \",tpl)\n",
    "print(\"Reverse Tuple is \",tpl[::-1])"
   ]
  },
  {
   "attachments": {},
   "cell_type": "markdown",
   "id": "77eaf2fb",
   "metadata": {},
   "source": [
    "## 2. WAP to remove duplicate values from tuple."
   ]
  },
  {
   "cell_type": "code",
   "execution_count": 7,
   "id": "65fe4d7e",
   "metadata": {},
   "outputs": [
    {
     "name": "stdout",
     "output_type": "stream",
     "text": [
      "Normal tuple  ('10', '20', '10', '50')\n",
      "removerd tuple  ('10', '20', '50')\n"
     ]
    }
   ],
   "source": [
    "s=int(input(\"enter size of touple \"))\n",
    "lst=[]\n",
    "dp=[]\n",
    "for i in range(s):\n",
    "    el=input(\"Enter element in touple\")\n",
    "    lst.append(el)\n",
    "    if(lst[i] not in dp):\n",
    "        dp.append(lst[i])\n",
    "        \n",
    "tpl1=tuple(lst)\n",
    "print(\"Normal tuple \",tpl1)\n",
    "\n",
    "tpl2=tuple(dp)\n",
    "print(\"removerd tuple \",tpl2)"
   ]
  },
  {
   "cell_type": "code",
   "execution_count": 13,
   "id": "3f42165d",
   "metadata": {},
   "outputs": [
    {
     "name": "stdout",
     "output_type": "stream",
     "text": [
      "Normal tuple :  ('10', '20', '10')\n",
      "Removed tuple is  ('20', '10')\n"
     ]
    }
   ],
   "source": [
    "s=int(input(\"enter size of touple \"))\n",
    "lst=[]\n",
    "for i in range(s):\n",
    "    el=input(\"Enter element in touple\")\n",
    "    lst.append(el)\n",
    "print(\"Normal tuple : \", tuple(lst))\n",
    "st=set(lst)\n",
    "tpl=tuple(st)\n",
    "print(\"Removed tuple is \",tpl)"
   ]
  },
  {
   "attachments": {},
   "cell_type": "markdown",
   "id": "9bc84c0e",
   "metadata": {},
   "source": [
    "## 3. WAP to check if tuple is distinct or not."
   ]
  },
  {
   "cell_type": "code",
   "execution_count": 12,
   "id": "701be833",
   "metadata": {},
   "outputs": [
    {
     "name": "stdout",
     "output_type": "stream",
     "text": [
      "Distinct tuple\n"
     ]
    }
   ],
   "source": [
    "s=int(input(\"enter size of touple \"))\n",
    "lst=[]\n",
    "dp=[]\n",
    "for i in range(s):\n",
    "    el=input(\"Enter element in touple\")\n",
    "    lst.append(el)\n",
    "st=set(lst) \n",
    "tpl=tuple(lst)   \n",
    "\n",
    "if len(st)==len(tpl):\n",
    "    print(\"Distinct tuple\")\n",
    "else:\n",
    "    print(\"Not distinct tuple\")"
   ]
  },
  {
   "attachments": {},
   "cell_type": "markdown",
   "id": "411a2f0a",
   "metadata": {},
   "source": [
    "## 4. WAP to find Tuples with positive elements in list of tuples."
   ]
  },
  {
   "cell_type": "code",
   "execution_count": 6,
   "id": "b7b341b6",
   "metadata": {},
   "outputs": [
    {
     "name": "stdout",
     "output_type": "stream",
     "text": [
      "your tuple is  [(3, 5, 6), (8, 9, 7), (5, -6, 3)]\n",
      "positive tuple is  [(3, 5, 6), (8, 9, 7)]\n"
     ]
    }
   ],
   "source": [
    "s=int(input(\"Enter size of tuple\"))\n",
    "g=int(input(\"Enter size of tuple group \"))\n",
    "lst_tpl=[]\n",
    "for i in range(s):\n",
    "    lst_elmt=[]\n",
    "    for j in range(g):\n",
    "        d=int(input(\"enter element in tuple : \"))\n",
    "        lst_elmt.append(d)\n",
    "    lst_tpl.append(tuple(lst_elmt))\n",
    "\n",
    "print(\"your tuple is \",lst_tpl)\n",
    "\n",
    "positive_tpl=[]\n",
    "for tp in (lst_tpl):\n",
    "    is_positive=True\n",
    "    for el in tp:\n",
    "        if el < 0:\n",
    "            is_positive=False\n",
    "            break\n",
    "    if is_positive:\n",
    "        positive_tpl.append(tp)       \n",
    "\n",
    "print(\"positive tuple is \",positive_tpl)\n",
    "\n",
    "    \n",
    "\n"
   ]
  },
  {
   "attachments": {},
   "cell_type": "markdown",
   "id": "b89a2d4a",
   "metadata": {},
   "source": [
    "## 5. WAP to find tuples that have all elements divisible by K from a list of tuples."
   ]
  },
  {
   "cell_type": "code",
   "execution_count": 7,
   "id": "9b4d1e40",
   "metadata": {},
   "outputs": [
    {
     "name": "stdout",
     "output_type": "stream",
     "text": [
      "your tuple is  [(12, 5, 42), (88, 64, 24), (31, 33, 99)]\n",
      "divisible tuple is  [(88, 64, 24)]\n"
     ]
    }
   ],
   "source": [
    "s=int(input(\"Enter size of tuple\"))\n",
    "g=int(input(\"Enter size of tuple group \"))\n",
    "lst_tpl=[]\n",
    "for i in range(s):\n",
    "    lst_elmt=[]\n",
    "    for j in range(g):\n",
    "        d=int(input(\"enter element in tuple : \"))\n",
    "        lst_elmt.append(d)\n",
    "    lst_tpl.append(tuple(lst_elmt))\n",
    "\n",
    "print(\"your tuple is \",lst_tpl)\n",
    "\n",
    "k=int(input(\"enter value of K for division :\"))\n",
    "\n",
    "divisible_tpl=[]\n",
    "for tp in (lst_tpl):\n",
    "    is_divisible=True\n",
    "    for el in tp:\n",
    "        if el % k ==0:\n",
    "            is_divisible= True\n",
    "        else:\n",
    "            is_divisible=False\n",
    "            break    \n",
    "    if is_divisible:\n",
    "        divisible_tpl.append(tp)       \n",
    "print(\"K = \",k)\n",
    "print(\"divisible tuple is \",divisible_tpl)\n"
   ]
  },
  {
   "attachments": {},
   "cell_type": "markdown",
   "id": "0f966535",
   "metadata": {},
   "source": [
    "## 6. WAP to swap two tuples entered by user."
   ]
  },
  {
   "cell_type": "code",
   "execution_count": 9,
   "id": "7dedcccf",
   "metadata": {},
   "outputs": [
    {
     "name": "stdout",
     "output_type": "stream",
     "text": [
      "Noramal tpl_1  ('10', '20', '30')\n",
      "Noramal tpl_2  ('50', '60', '70')\n",
      "tpl_1 ('50', '60', '70')\n",
      "tpl_2 ('10', '20', '30')\n"
     ]
    }
   ],
   "source": [
    "s1=int(input(\"enter size of First touple \"))\n",
    "lst_1=[]\n",
    "\n",
    "for i in range(s1):\n",
    "    el=input(\"Enter element in first touple\")\n",
    "    lst_1.append(el)\n",
    "\n",
    "tpl_1=tuple(lst_1)\n",
    "print(\"Noramal tpl_1 \",tpl_1)\n",
    "\n",
    "s2=int(input(\"enter size of Second touple \"))\n",
    "lst_2=[]\n",
    "\n",
    "for i in range(s2):\n",
    "    el=input(\"Enter element in Second touple\")\n",
    "    lst_2.append(el)\n",
    "\n",
    "tpl_2=tuple(lst_2)\n",
    "print(\"Noramal tpl_2 \",tpl_2)\n",
    "\n",
    "\n",
    "tpl_1,tpl_2 = tpl_2,tpl_1\n",
    "\n",
    "\n",
    "print(\"tpl_1\",tpl_1)\n",
    "print(\"tpl_2\",tpl_2)\n",
    "            \n",
    "\n"
   ]
  },
  {
   "attachments": {},
   "cell_type": "markdown",
   "id": "ef1c72ce",
   "metadata": {},
   "source": [
    "## 7. WAP to create a set by a list of elements to a set and find its size."
   ]
  },
  {
   "cell_type": "code",
   "execution_count": 10,
   "id": "e7d869ab",
   "metadata": {},
   "outputs": [
    {
     "name": "stdout",
     "output_type": "stream",
     "text": [
      "set is  {33, 11, 44, 22}\n",
      "Size is  4\n"
     ]
    }
   ],
   "source": [
    "s=int(input(\"Enyter size of set \"))\n",
    "\n",
    "my_st=set()\n",
    "\n",
    "for i in range(s):\n",
    "    d=int(input(\"Enter element in set \"))\n",
    "    my_st.add(d)\n",
    "\n",
    "print(\"set is \",my_st)\n",
    "print(\"Size is \",len(my_st))"
   ]
  },
  {
   "attachments": {},
   "cell_type": "markdown",
   "id": "443cc7bd",
   "metadata": {},
   "source": [
    "## 8. WAP to find maximum and minimum in a set."
   ]
  },
  {
   "cell_type": "code",
   "execution_count": 14,
   "id": "4a2089c9",
   "metadata": {},
   "outputs": [
    {
     "name": "stdout",
     "output_type": "stream",
     "text": [
      "set is  {2, 11, 98, 55}\n",
      "maxx is  98\n",
      "min is  2\n"
     ]
    }
   ],
   "source": [
    "s=int(input(\"Enyter size of set \"))\n",
    "\n",
    "my_st=set()\n",
    "\n",
    "for i in range(s):\n",
    "    d=int(input(\"Enter element in set \"))\n",
    "    my_st.add(d)\n",
    "\n",
    "\n",
    "print(\"set is \",my_st)\n",
    "print(\"maxx is \",max(my_st))\n",
    "print(\"min is \",min(my_st))\n",
    "\n"
   ]
  },
  {
   "attachments": {},
   "cell_type": "markdown",
   "id": "3e683242",
   "metadata": {},
   "source": [
    "## 9. WAP to remove items from a set given by user."
   ]
  },
  {
   "cell_type": "code",
   "execution_count": 3,
   "id": "b3cf6a1e",
   "metadata": {},
   "outputs": [
    {
     "name": "stdout",
     "output_type": "stream",
     "text": [
      "normal set {40, 10, 20, 30}\n",
      "deleted set  {10, 20}\n"
     ]
    }
   ],
   "source": [
    "s=int(input(\"Enyter size of set \"))\n",
    "\n",
    "my_st=set()\n",
    "\n",
    "for i in range(s):\n",
    "    d=int(input(\"Enter element in set \"))\n",
    "    my_st.add(d)\n",
    "\n",
    "print(\"normal set\",my_st)\n",
    "t=int(input(\"How many items you want to delete\"))\n",
    "\n",
    "stk2=set()\n",
    "for i in range(t):\n",
    "    k=int(input(\"enter items to delete \"))\n",
    "    stk2.add(k)\n",
    "\n",
    "print(\"deleted set \",my_st-stk2)"
   ]
  },
  {
   "attachments": {},
   "cell_type": "markdown",
   "id": "892a83ac",
   "metadata": {},
   "source": [
    "## 10. WAP to convert a given set into tuple and tuple into set."
   ]
  },
  {
   "cell_type": "code",
   "execution_count": 4,
   "id": "17a6cac3",
   "metadata": {},
   "outputs": [
    {
     "name": "stdout",
     "output_type": "stream",
     "text": [
      "Set = {1, 2, 3, 4}\n",
      "tuple = (1, 2, 3, 4)\n"
     ]
    }
   ],
   "source": [
    "s=int(input(\"Enyter size of set \"))\n",
    "\n",
    "my_st=set()\n",
    "\n",
    "for i in range(s):\n",
    "    d=int(input(\"Enter element in set \"))\n",
    "    my_st.add(d)\n",
    "\n",
    "print(\"Set =\",my_st)\n",
    "\n",
    "print(\"tuple =\",tuple(my_st))"
   ]
  },
  {
   "attachments": {},
   "cell_type": "markdown",
   "id": "7c61202c",
   "metadata": {},
   "source": [
    "<pre>\n",
    "<center><h1>B PROGRAM</h1></center>\n",
    "</pre>"
   ]
  },
  {
   "attachments": {},
   "cell_type": "markdown",
   "id": "169bd361",
   "metadata": {},
   "source": [
    "## 1. WAP to convert binary tuple into integer."
   ]
  },
  {
   "cell_type": "code",
   "execution_count": 7,
   "id": "0b4112d6",
   "metadata": {},
   "outputs": [
    {
     "name": "stdout",
     "output_type": "stream",
     "text": [
      "1\n"
     ]
    }
   ],
   "source": []
  },
  {
   "attachments": {},
   "cell_type": "markdown",
   "id": "9eadb911",
   "metadata": {},
   "source": [
    "## 2. WAP to sort lists in tuple."
   ]
  },
  {
   "cell_type": "code",
   "execution_count": null,
   "id": "58f7a598",
   "metadata": {},
   "outputs": [],
   "source": []
  },
  {
   "attachments": {},
   "cell_type": "markdown",
   "id": "d95fc12c",
   "metadata": {},
   "source": [
    "## 3. WAP to perform union of two sets."
   ]
  },
  {
   "cell_type": "code",
   "execution_count": null,
   "id": "d6ac6950",
   "metadata": {},
   "outputs": [],
   "source": []
  },
  {
   "attachments": {},
   "cell_type": "markdown",
   "id": "692d981c",
   "metadata": {},
   "source": [
    "## 4. WAP to perform intersection of two sets."
   ]
  },
  {
   "cell_type": "code",
   "execution_count": null,
   "id": "4efbe5db",
   "metadata": {},
   "outputs": [],
   "source": []
  },
  {
   "attachments": {},
   "cell_type": "markdown",
   "id": "056fe434",
   "metadata": {},
   "source": [
    "## 5. WAP to get all subsets of given size of a set."
   ]
  },
  {
   "cell_type": "code",
   "execution_count": null,
   "id": "e6dfb378",
   "metadata": {},
   "outputs": [],
   "source": []
  }
 ],
 "metadata": {
  "kernelspec": {
   "display_name": "Python 3 (ipykernel)",
   "language": "python",
   "name": "python3"
  },
  "language_info": {
   "codemirror_mode": {
    "name": "ipython",
    "version": 3
   },
   "file_extension": ".py",
   "mimetype": "text/x-python",
   "name": "python",
   "nbconvert_exporter": "python",
   "pygments_lexer": "ipython3",
   "version": "3.12.0"
  }
 },
 "nbformat": 4,
 "nbformat_minor": 5
}
