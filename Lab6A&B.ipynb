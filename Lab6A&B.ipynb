{
 "cells": [
  {
   "cell_type": "markdown",
   "id": "e928168d",
   "metadata": {},
   "source": [
    "# A programs\n",
    "#  1. WAP to find sum of all the elements in list."
   ]
  },
  {
   "cell_type": "code",
   "execution_count": 5,
   "id": "829d6744",
   "metadata": {},
   "outputs": [
    {
     "name": "stdout",
     "output_type": "stream",
     "text": [
      "enter n:3\n",
      "Enter num: 1\n",
      "Enter num: 2\n",
      "Enter num: 3\n",
      "[1, 2, 3]\n",
      "6\n"
     ]
    }
   ],
   "source": [
    "n=int(input(\"enter n:\"))\n",
    "sum=0\n",
    "list1=[]\n",
    "i=0\n",
    "j=0\n",
    "for i in range(n):\n",
    "    a=int(input(\"Enter num: \"))\n",
    "    list1.append(a)\n",
    "    sum=sum+list1[i]\n",
    "print(list1)\n",
    "\n",
    "print(sum)"
   ]
  },
  {
   "cell_type": "markdown",
   "id": "cfb5ce23",
   "metadata": {},
   "source": [
    "# 2. WAP to find the smallest and largest element in a list."
   ]
  },
  {
   "cell_type": "code",
   "execution_count": 11,
   "id": "79b766f4",
   "metadata": {},
   "outputs": [
    {
     "name": "stdout",
     "output_type": "stream",
     "text": [
      "enter n:3\n",
      "Enter ele: 1\n",
      "Enter ele: 2\n",
      "Enter ele: 3\n",
      "Smallest Number  1\n",
      "Largest Number  3\n"
     ]
    }
   ],
   "source": [
    "n=int(input(\"enter n:\"))\n",
    "sum=0\n",
    "list1=[]\n",
    "for i in range(n):\n",
    "     list1.append(int(input(\"Enter ele: \")))\n",
    "min=list1[0]\n",
    "max=list1[0]\n",
    "for i in range(n):\n",
    "    \n",
    "   \n",
    "    if list1[i]>max:\n",
    "        max=list1[i]\n",
    "    if list1[i]<min:\n",
    "        min=list1[i]\n",
    "        \n",
    "print(\"Smallest Number \",min)\n",
    "print(\"Largest Number \",max)"
   ]
  },
  {
   "cell_type": "markdown",
   "id": "0412f4c6",
   "metadata": {},
   "source": [
    "# 3. WAP to take a list of any six product names split the list into two and append the first part to the end of the list."
   ]
  },
  {
   "cell_type": "code",
   "execution_count": 13,
   "id": "f692f811",
   "metadata": {},
   "outputs": [
    {
     "name": "stdout",
     "output_type": "stream",
     "text": [
      "Enter Number: 2\n",
      "Enter Number: 3\n",
      "Enter Number: 5\n",
      "Enter Number: 6\n",
      "Enter Number: 8\n",
      "Enter Number: 1\n",
      "['2', '3', '5', '6', '8', '1']\n",
      "['6', '8', '1', '2', '3', '5']\n"
     ]
    }
   ],
   "source": [
    "list1=[]\n",
    "for i in range(6):\n",
    "    a=input(\"Enter Number: \")\n",
    "    list1.append(a)\n",
    "print(list1)\n",
    "list2=list1[3:6]\n",
    "list3=list1[0:3]\n",
    "list2.extend(list3)\n",
    "print(list2)"
   ]
  },
  {
   "cell_type": "markdown",
   "id": "bd92e871",
   "metadata": {},
   "source": [
    "# 4. WAP to interchange first and last elements in list entered by a user."
   ]
  },
  {
   "cell_type": "code",
   "execution_count": 19,
   "id": "63aaa5fe",
   "metadata": {},
   "outputs": [
    {
     "name": "stdout",
     "output_type": "stream",
     "text": [
      "Enter Number: 3\n",
      "Enter element: 1\n",
      "Enter element: 2\n",
      "Enter element: 3\n",
      "[1, 2, 3]\n",
      "[3, 2, 1]\n"
     ]
    }
   ],
   "source": [
    "n=int(input(\"Enter Number: \"))\n",
    "list1=[]\n",
    "for i in range(n):\n",
    "    a=int(input(\"Enter element: \"))\n",
    "    list1.append(a)\n",
    "print(list1)\n",
    "l1=list1[0:1]\n",
    "l2=list1[-1:]\n",
    "list1[0]=l2[0]\n",
    "list1[-1]=l1[0]\n",
    "print(list1)"
   ]
  },
  {
   "cell_type": "markdown",
   "id": "38e6b605",
   "metadata": {},
   "source": [
    "# 5. WAP to interchange the list elements on two positions entered by a user from a list."
   ]
  },
  {
   "cell_type": "code",
   "execution_count": 18,
   "id": "340c079c",
   "metadata": {},
   "outputs": [
    {
     "name": "stdout",
     "output_type": "stream",
     "text": [
      "Enter Number: 4\n",
      "Enter element: 1\n",
      "Enter element: 6\n",
      "Enter element: 2\n",
      "Enter element: 3\n",
      "[1, 6, 2, 3]\n",
      "Enter position 1: 1\n",
      "Enter position 2: 2\n",
      "[1, 3, 6, 2]\n"
     ]
    }
   ],
   "source": [
    "n=int(input(\"Enter Number: \"))\n",
    "list1=[]\n",
    "for i in range(n):\n",
    "    a=int(input(\"Enter element: \"))\n",
    "    list1.append(a)\n",
    "print(list1)\n",
    "pos1=int(input(\"Enter position 1: \"))\n",
    "pos2=int(input(\"Enter position 2: \"))\n",
    "first=list1.pop(pos1)\n",
    "second=list1.pop(pos2)\n",
    "list1.insert(pos1,second)\n",
    "list1.insert(pos2,first)\n",
    "print(list1)"
   ]
  },
  {
   "cell_type": "markdown",
   "id": "f69eb92e",
   "metadata": {},
   "source": [
    "# 6. WAP to reverses the list entered by user."
   ]
  },
  {
   "cell_type": "code",
   "execution_count": 20,
   "id": "9033bb24",
   "metadata": {},
   "outputs": [
    {
     "name": "stdout",
     "output_type": "stream",
     "text": [
      "Enter Number: 5\n",
      "Enter element: 1\n",
      "Enter element: 2\n",
      "Enter element: 3\n",
      "Enter element: 4\n",
      "Enter element: 5\n",
      "[1, 2, 3, 4, 5]\n",
      "[5, 4, 3, 2, 1]\n"
     ]
    }
   ],
   "source": [
    "n=int(input(\"Enter Number: \"))\n",
    "list1=[]\n",
    "for i in range(n):\n",
    "    a=int(input(\"Enter element: \"))\n",
    "    list1.append(a)\n",
    "print(list1)\n",
    "list1.sort(reverse=1)\n",
    "print(list1)"
   ]
  },
  {
   "cell_type": "markdown",
   "id": "e23fc84a",
   "metadata": {},
   "source": [
    "# 7. WAP to print all even number in list entered by user."
   ]
  },
  {
   "cell_type": "code",
   "execution_count": 22,
   "id": "6fa61ea9",
   "metadata": {},
   "outputs": [
    {
     "name": "stdout",
     "output_type": "stream",
     "text": [
      "Enter Number: 5\n",
      "Enter element: 1\n",
      "Enter element: 2\n",
      "Enter element: 3\n",
      "Enter element: 4\n",
      "Enter element: 5\n",
      "[1, 2, 3, 4, 5]\n",
      "2\n",
      "4\n"
     ]
    }
   ],
   "source": [
    "n=int(input(\"Enter Number: \"))\n",
    "list1=[]\n",
    "for i in range(n):\n",
    "    a=int(input(\"Enter element: \"))\n",
    "    list1.append(a)\n",
    "print(list1)\n",
    "for a in list1:\n",
    "    if(a%2==0):\n",
    "        print(a)"
   ]
  },
  {
   "cell_type": "markdown",
   "id": "684a89d1",
   "metadata": {},
   "source": [
    "# 8. WAP to print all odd number in list entered by user."
   ]
  },
  {
   "cell_type": "code",
   "execution_count": 23,
   "id": "39c21782",
   "metadata": {},
   "outputs": [
    {
     "name": "stdout",
     "output_type": "stream",
     "text": [
      "Enter Number: 5\n",
      "Enter element: 1\n",
      "Enter element: 2\n",
      "Enter element: 3\n",
      "Enter element: 4\n",
      "Enter element: 5\n",
      "[1, 2, 3, 4, 5]\n",
      "1\n",
      "3\n",
      "5\n"
     ]
    }
   ],
   "source": [
    "n=int(input(\"Enter Number: \"))\n",
    "list1=[]\n",
    "for i in range(n):\n",
    "    a=int(input(\"Enter element: \"))\n",
    "    list1.append(a)\n",
    "print(list1)\n",
    "for a in list1:\n",
    "    if(a%2!=0):\n",
    "        print(a)"
   ]
  },
  {
   "cell_type": "markdown",
   "id": "58dd980c",
   "metadata": {},
   "source": [
    "# 9. WAP to search an element in a list as entered by user."
   ]
  },
  {
   "cell_type": "code",
   "execution_count": 1,
   "id": "764e2b3c",
   "metadata": {},
   "outputs": [
    {
     "name": "stdout",
     "output_type": "stream",
     "text": [
      "Enter length of the list: 5\n",
      "Enter the number: 1\n",
      "Enter the number: 6\n",
      "Enter the number: 5\n",
      "Enter the number: 3\n",
      "Enter the number: 4\n",
      "[1, 6, 5, 3, 4]\n",
      "Enter search element: 8\n",
      "Your element not found.\n"
     ]
    }
   ],
   "source": [
    "list=[]\n",
    "n=int(input(\"Enter length of the list: \"))\n",
    "flag=0\n",
    "for i in range(n):\n",
    "    a=int(input(\"Enter the number: \"))\n",
    "    list.append(a)\n",
    "print(list)\n",
    "m=int(input(\"Enter search element: \"))\n",
    "for i in range(n):\n",
    "    if(list[i]==m):\n",
    "        print(\"Element is available.\")\n",
    "        flag=1\n",
    "if(flag==0):\n",
    "    print(\"Your element not found.\")"
   ]
  },
  {
   "cell_type": "markdown",
   "id": "6254c6df",
   "metadata": {},
   "source": [
    "# 10. WAP to sort a list in ascending or descending order as per user’s choice."
   ]
  },
  {
   "cell_type": "code",
   "execution_count": 3,
   "id": "b991bb2d",
   "metadata": {},
   "outputs": [
    {
     "name": "stdout",
     "output_type": "stream",
     "text": [
      "Enter length of the list: 5\n",
      "Enter the number: 1\n",
      "Enter the number: 32\n",
      "Enter the number: 4\n",
      "Enter the number: 6\n",
      "Enter the number: 7\n",
      "[1, 32, 4, 6, 7]\n",
      "1.Ascending  2.Descending1\n",
      "Ascending Order=  [1, 4, 6, 7, 32]\n"
     ]
    }
   ],
   "source": [
    "list=[]\n",
    "n=int(input(\"Enter length of the list: \"))\n",
    "flag=0\n",
    "for i in range(n):\n",
    "    a=int(input(\"Enter the number: \"))\n",
    "    list.append(a)\n",
    "print(list)\n",
    "temp=0\n",
    "choice=int(input(\"1.Ascending  2.Descending\"))\n",
    "if(choice==1):\n",
    "    for i in range(n):\n",
    "        j=i\n",
    "        for j in range(n):\n",
    "            if list[i]<list[j]:\n",
    "                temp=list[i]\n",
    "                list[i]=list[j]\n",
    "                list[j]=temp\n",
    "            j=j+1\n",
    "        i=i+1\n",
    "    print(\"Ascending Order= \", list)\n",
    "elif(choice==2):\n",
    "    for i in range(n):\n",
    "        j=i\n",
    "        for j in range(n):\n",
    "            if list[i]>list[j]:\n",
    "                temp=list[i]\n",
    "                list[i]=list[j]\n",
    "                list[j]=temp\n",
    "            j=j+1\n",
    "        i=i+1\n",
    "    print(\"Descending Order= \", list)"
   ]
  },
  {
   "cell_type": "markdown",
   "id": "c6105056",
   "metadata": {},
   "source": [
    "# 11. WAP program to convert a list of characters entered by user into a string."
   ]
  },
  {
   "cell_type": "code",
   "execution_count": 11,
   "id": "0bbb7329",
   "metadata": {},
   "outputs": [
    {
     "name": "stdout",
     "output_type": "stream",
     "text": [
      "Enter length of the list: 5\n",
      "Enter the number: 1\n",
      "Enter the number: 2\n",
      "Enter the number: 3\n",
      "Enter the number: 4\n",
      "Enter the number: 5\n",
      "['1', '2', '3', '4', '5']\n",
      "12345\n"
     ]
    }
   ],
   "source": [
    "list=[]\n",
    "n=int(input(\"Enter length of the list: \"))\n",
    "\n",
    "flag=0\n",
    "for i in range(n):\n",
    "    a=input(\"Enter the number: \")\n",
    "    list.append(a)\n",
    "print(list)\n",
    "str=\"\".join(list)\n",
    "print(str)"
   ]
  },
  {
   "cell_type": "markdown",
   "id": "8ba7f878",
   "metadata": {},
   "source": [
    "# 12. WAP to enter name, quantity and price of 5 products by a user. Generate and print all the details with the Product’s total amount in formatted manner."
   ]
  },
  {
   "cell_type": "code",
   "execution_count": null,
   "id": "a3823baa",
   "metadata": {},
   "outputs": [],
   "source": [
    "product_list=[]\n",
    "total_amount=0\n",
    "\n",
    "for i in range(5):\n",
    "    product_name=input(\"enter product name:\")\n",
    "    price=int(input(\"enter product price:\"))\n",
    "    quantity=int(input(\"enter product quantity:\"))\n",
    "    \n",
    "    product_total=price*quantity\n",
    "    total_amount+=product_total\n",
    "    \n",
    "    product_list.extend([product_name,price,quantity])\n",
    "    \n",
    "print(\"product_name   quantity   price\")\n",
    "for i in range(0,len(product_list),3):\n",
    "    print(product_list[i],\"      \",product_list[i+1],\"       \",product_list[i+2])\n",
    "    \n",
    "print(\"total amount\" + str(total_amount))\n"
   ]
  },
  {
   "cell_type": "markdown",
   "id": "d6437fec",
   "metadata": {},
   "source": [
    "# B programs\n",
    "# 1. WAP to count even and odd numbers in a List."
   ]
  },
  {
   "cell_type": "code",
   "execution_count": 17,
   "id": "a1f1b31e",
   "metadata": {},
   "outputs": [
    {
     "name": "stdout",
     "output_type": "stream",
     "text": [
      "Enter length of the list: 5\n",
      "Enter the number: 1\n",
      "Enter the number: 3\n",
      "Enter the number: 2\n",
      "Enter the number: 6\n",
      "Enter the number: 5\n",
      "[1, 3, 2, 6, 5]\n",
      "Even Number:  2\n",
      "Odd Number:  3\n"
     ]
    }
   ],
   "source": [
    "list=[]\n",
    "n=int(input(\"Enter length of the list: \"))\n",
    "\n",
    "flag=0\n",
    "for i in range(n):\n",
    "    a=int(input(\"Enter the number: \"))\n",
    "    list.append(a)\n",
    "print(list)\n",
    "even=0\n",
    "odd=0\n",
    "for num in list:\n",
    "    if num%2==0:\n",
    "        even=even+1\n",
    "    else:\n",
    "        odd=odd+1\n",
    "print(\"Even Number: \",even)\n",
    "print(\"Odd Number: \",odd)"
   ]
  },
  {
   "cell_type": "markdown",
   "id": "1a552c04",
   "metadata": {},
   "source": [
    "# 2. WAP to remove multiple elements from a list in Python as per value entered by user."
   ]
  },
  {
   "cell_type": "code",
   "execution_count": null,
   "id": "997f66e2",
   "metadata": {},
   "outputs": [],
   "source": [
    "list1=[]\n",
    "i=0\n",
    "number=int(input(\"enter limit:\"))\n",
    "for i in range(number):\n",
    "    a=int(input(\"enter number:\"))\n",
    "    list1.append(a)\n",
    "print(list1)\n",
    "\n",
    "remove_ele=int(input(\"enter how many element you have to remove:\"))\n",
    "for i in range(remove_ele):\n",
    "    element=int(input(\"enter which element you want to remove:\"))\n",
    "    list2=list1.remove(element)\n",
    "print(list2)"
   ]
  },
  {
   "cell_type": "markdown",
   "id": "eca45fc0",
   "metadata": {},
   "source": [
    "# 3. WAP to print duplicates from a list of integers."
   ]
  },
  {
   "cell_type": "code",
   "execution_count": 30,
   "id": "a1882159",
   "metadata": {},
   "outputs": [
    {
     "name": "stdout",
     "output_type": "stream",
     "text": [
      "Enter length of the list: 5\n",
      "Enter the number: 1\n",
      "Enter the number: 2\n",
      "Enter the number: 3\n",
      "Enter the number: 4\n",
      "Enter the number: 2\n",
      "['1', '2', '3', '4', '2']\n",
      "Duplicate\n",
      "2\n"
     ]
    },
    {
     "ename": "IndexError",
     "evalue": "string index out of range",
     "output_type": "error",
     "traceback": [
      "\u001b[1;31m---------------------------------------------------------------------------\u001b[0m",
      "\u001b[1;31mIndexError\u001b[0m                                Traceback (most recent call last)",
      "Input \u001b[1;32mIn [30]\u001b[0m, in \u001b[0;36m<cell line: 10>\u001b[1;34m()\u001b[0m\n\u001b[0;32m     10\u001b[0m \u001b[38;5;28;01mfor\u001b[39;00m i \u001b[38;5;129;01min\u001b[39;00m \u001b[38;5;28mrange\u001b[39m(n):\n\u001b[0;32m     11\u001b[0m     \u001b[38;5;28;01mfor\u001b[39;00m j \u001b[38;5;129;01min\u001b[39;00m \u001b[38;5;28mrange\u001b[39m(n):\n\u001b[1;32m---> 12\u001b[0m         \u001b[38;5;28;01mif\u001b[39;00m a[i]\u001b[38;5;241m==\u001b[39m\u001b[43ma\u001b[49m\u001b[43m[\u001b[49m\u001b[43mj\u001b[49m\u001b[43m]\u001b[49m:\n\u001b[0;32m     13\u001b[0m             \u001b[38;5;28mprint\u001b[39m(a[j])\n",
      "\u001b[1;31mIndexError\u001b[0m: string index out of range"
     ]
    }
   ],
   "source": [
    "list=[]\n",
    "n=int(input(\"Enter length of the list: \"))\n",
    "\n",
    "flag=0\n",
    "for i in range(n):\n",
    "    a=input(\"Enter the number: \")\n",
    "    list.append(a)\n",
    "print(list)\n",
    "print(\"Duplicate\")\n",
    "for i in range(n):\n",
    "    for j in range(n):\n",
    "        if a[i]==a[j]:\n",
    "            print(a[j])"
   ]
  },
  {
   "cell_type": "markdown",
   "id": "ca8f5472",
   "metadata": {},
   "source": [
    "# 4. WAP to count the number of strings where the string length is 2 or more and the first and last character are same from a given list of strings."
   ]
  },
  {
   "cell_type": "code",
   "execution_count": 29,
   "id": "48f99a80",
   "metadata": {},
   "outputs": [
    {
     "name": "stdout",
     "output_type": "stream",
     "text": [
      "Enter length of the list: 3\n",
      "Enter the element: aba\n",
      "Enter the element: abc\n",
      "Enter the element: abcd\n",
      "['aba', 'abc', 'abcd']\n",
      "0\n"
     ]
    }
   ],
   "source": [
    "list=[]\n",
    "n=int(input(\"Enter length of the list: \"))\n",
    "\n",
    "flag=0\n",
    "for i in range(n):\n",
    "    a=input(\"Enter the element: \")\n",
    "    list.append(a)\n",
    "print(list)\n",
    "count=0\n",
    "for i in list:\n",
    "    if len(i)>2 and i[0]==i[-1]:\n",
    "        print(count)"
   ]
  },
  {
   "cell_type": "markdown",
   "id": "fe32afc5",
   "metadata": {},
   "source": [
    "# 5. WAP to check whether a list contains a sub-list and generate all sub-lists of a list."
   ]
  },
  {
   "cell_type": "code",
   "execution_count": null,
   "id": "8cac8349",
   "metadata": {},
   "outputs": [],
   "source": [
    "  "
   ]
  }
 ],
 "metadata": {
  "kernelspec": {
   "display_name": "Python 3 (ipykernel)",
   "language": "python",
   "name": "python3"
  },
  "language_info": {
   "codemirror_mode": {
    "name": "ipython",
    "version": 3
   },
   "file_extension": ".py",
   "mimetype": "text/x-python",
   "name": "python",
   "nbconvert_exporter": "python",
   "pygments_lexer": "ipython3",
   "version": "3.9.12"
  }
 },
 "nbformat": 4,
 "nbformat_minor": 5
}
