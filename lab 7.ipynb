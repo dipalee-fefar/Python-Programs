{
 "cells": [
  {
   "cell_type": "markdown",
   "id": "e928168d",
   "metadata": {},
   "source": [
    "#  A programs\n",
    "# 1. WAP to create a dictionary for n values and print the size of the dictionary."
   ]
  },
  {
   "cell_type": "code",
   "execution_count": 3,
   "id": "829d6744",
   "metadata": {},
   "outputs": [
    {
     "name": "stdout",
     "output_type": "stream",
     "text": [
      "enetr the number of key-value pairs:2\n",
      "enter key:1\n",
      "enter value:hetvi\n",
      "enter key:2\n",
      "enter value:isha\n",
      "{'1': 'hetvi', '2': 'isha'}\n",
      "size of the dictionary: 2\n"
     ]
    }
   ],
   "source": [
    "n=int(input(\"enetr the number of key-value pairs:\"))\n",
    "dictionary={}\n",
    "\n",
    "for i in range(n):\n",
    "    key=input(\"enter key:\")\n",
    "    value=input(\"enter value:\")\n",
    "    dictionary[key]=value\n",
    "print(dictionary)\n",
    "print(\"size of the dictionary:\",len(dictionary))\n",
    "    "
   ]
  },
  {
   "cell_type": "markdown",
   "id": "cfb5ce23",
   "metadata": {},
   "source": [
    "# 2. WAP to create a dictionary from a string."
   ]
  },
  {
   "cell_type": "code",
   "execution_count": 7,
   "id": "79b766f4",
   "metadata": {},
   "outputs": [
    {
     "name": "stdout",
     "output_type": "stream",
     "text": [
      "enetr string:abcabc\n",
      "{'a': 2, 'b': 2, 'c': 2}\n"
     ]
    }
   ],
   "source": [
    "str=input(\"enetr string:\")\n",
    "dictionary={}\n",
    "\n",
    "for c in str:\n",
    "    if c in dictionary:\n",
    "        dictionary[c]+=1\n",
    "    else:\n",
    "        dictionary[c]=1\n",
    "print(dictionary)\n",
    "\n"
   ]
  },
  {
   "cell_type": "markdown",
   "id": "0412f4c6",
   "metadata": {},
   "source": [
    "# 3. WAP to sort python dictionary by value in ascending and descending order."
   ]
  },
  {
   "cell_type": "code",
   "execution_count": 17,
   "id": "f692f811",
   "metadata": {},
   "outputs": [
    {
     "name": "stdout",
     "output_type": "stream",
     "text": [
      "enetr the number of key-value pairs:3\n",
      "enter key:age\n",
      "enter value:23\n",
      "enter key:height\n",
      "enter value:12\n",
      "enter key:weight\n",
      "enter value:30\n",
      "dictionary: {'age': '23', 'height': '12', 'weight': '30'}\n",
      "ascending: {'height': '12', 'age': '23', 'weight': '30'}\n",
      "descending: {'weight': '30', 'age': '23', 'height': '12'}\n"
     ]
    }
   ],
   "source": [
    "n=int(input(\"enetr the number of key-value pairs:\"))\n",
    "dictionary={}\n",
    "\n",
    "for i in range(n):\n",
    "    key=input(\"enter key:\")\n",
    "    value=input(\"enter value:\")\n",
    "    dictionary[key]=value\n",
    "\n",
    "ascending=dict(sorted(dictionary.items(),key=lambda item:item[1]))\n",
    "descending=dict(sorted(dictionary.items(),key=lambda item:item[1],reverse=True))\n",
    "print(\"dictionary:\",dictionary)\n",
    "print(\"ascending:\",ascending)\n",
    "print(\"descending:\",descending)"
   ]
  },
  {
   "cell_type": "markdown",
   "id": "bd92e871",
   "metadata": {},
   "source": [
    "# 4. WAP to sort python dictionary by key in ascending and descending order."
   ]
  },
  {
   "cell_type": "code",
   "execution_count": 18,
   "id": "63aaa5fe",
   "metadata": {},
   "outputs": [
    {
     "name": "stdout",
     "output_type": "stream",
     "text": [
      "enetr the number of key-value pairs:3\n",
      "enter key:10\n",
      "enter value:aa\n",
      "enter key:20\n",
      "enter value:bb\n",
      "enter key:30\n",
      "enter value:cc\n",
      "dictionary: {'10': 'aa', '20': 'bb', '30': 'cc'}\n",
      "ascending: {'10': 'aa', '20': 'bb', '30': 'cc'}\n",
      "descending: {'30': 'cc', '20': 'bb', '10': 'aa'}\n"
     ]
    }
   ],
   "source": [
    "n=int(input(\"enetr the number of key-value pairs:\"))\n",
    "dictionary={}\n",
    "\n",
    "for i in range(n):\n",
    "    key=input(\"enter key:\")\n",
    "    value=input(\"enter value:\")\n",
    "    dictionary[key]=value\n",
    "\n",
    "ascending=dict(sorted(dictionary.items(),key=lambda item:item[0]))\n",
    "descending=dict(sorted(dictionary.items(),key=lambda item:item[0],reverse=True))\n",
    "print(\"dictionary:\",dictionary)\n",
    "print(\"ascending:\",ascending)\n",
    "print(\"descending:\",descending)"
   ]
  },
  {
   "cell_type": "markdown",
   "id": "38e6b605",
   "metadata": {},
   "source": [
    "# 5. WAP to enter a key and add a key to a dictionary if it does not exist."
   ]
  },
  {
   "cell_type": "code",
   "execution_count": 24,
   "id": "340c079c",
   "metadata": {},
   "outputs": [
    {
     "name": "stdout",
     "output_type": "stream",
     "text": [
      "enetr the number of key-value pairs:2\n",
      "enter key:1\n",
      "enter value:abc\n",
      "enter key:2\n",
      "enter value:pqr\n",
      "{'1': 'abc', '2': 'pqr'}\n",
      "enter key:3\n",
      "enter value:xyz\n",
      "updated dictionary: {'1': 'abc', '2': 'pqr', '3': 'xyz'}\n"
     ]
    }
   ],
   "source": [
    "n=int(input(\"enetr the number of key-value pairs:\"))\n",
    "dictionary={}\n",
    "\n",
    "for i in range(n):\n",
    "    key=input(\"enter key:\")\n",
    "    value=input(\"enter value:\")\n",
    "    dictionary[key]=value\n",
    "print(dictionary)\n",
    "\n",
    "key1=input(\"enter key:\")\n",
    "if key1 not in dictionary:\n",
    "    value1=input(\"enter value:\")\n",
    "    dictionary[key1]=value1\n",
    "else:\n",
    "    print(\"key is exist in dictionary\")\n",
    "    \n",
    "print(\"updated dictionary:\",dictionary)\n",
    "        "
   ]
  },
  {
   "cell_type": "markdown",
   "id": "f69eb92e",
   "metadata": {},
   "source": [
    "# 6. WAP to enter a key and to remove a key from a dictionary if it exists."
   ]
  },
  {
   "cell_type": "code",
   "execution_count": 4,
   "id": "9033bb24",
   "metadata": {},
   "outputs": [
    {
     "name": "stdout",
     "output_type": "stream",
     "text": [
      "enetr the number of key-value pairs:3\n",
      "enter key:1\n",
      "enter value:aa\n",
      "enter key:2\n",
      "enter value:bb\n",
      "enter key:3\n",
      "enter value:cc\n",
      "{'1': 'aa', '2': 'bb', '3': 'cc'}\n",
      "enter key:1\n",
      "updated: {'2': 'bb', '3': 'cc'}\n"
     ]
    }
   ],
   "source": [
    "n=int(input(\"enetr the number of key-value pairs:\"))\n",
    "dictionary={}\n",
    "\n",
    "for i in range(n):\n",
    "    key=input(\"enter key:\")\n",
    "    value=input(\"enter value:\")\n",
    "    dictionary[key]=value\n",
    "print(dictionary)\n",
    "\n",
    "key1=input(\"enter key:\")\n",
    "if key1 in dictionary:\n",
    "    #dictionary.pop(key1)\n",
    "    del dictionary[key1]\n",
    "else:\n",
    "    print(\"key does not exist\")\n",
    "print(\"updated:\",dictionary)\n",
    "    \n"
   ]
  },
  {
   "cell_type": "markdown",
   "id": "e23fc84a",
   "metadata": {},
   "source": [
    "# 7. WAP to get the maximum and minimum value in a dictionary of 10 country names entered by user."
   ]
  },
  {
   "cell_type": "code",
   "execution_count": 2,
   "id": "6fa61ea9",
   "metadata": {},
   "outputs": [
    {
     "name": "stdout",
     "output_type": "stream",
     "text": [
      "enter country name:india\n",
      "enter country population:30000\n",
      "enter country name:america\n",
      "enter country population:2000\n",
      "{'india': 30000, 'america': 2000}\n",
      "america\n",
      "india\n"
     ]
    }
   ],
   "source": [
    "country={}\n",
    "for _ in range(2):\n",
    "    name=input(\"enter country name:\")\n",
    "    population=int(input(\"enter country population:\"))\n",
    "    country[name]=population\n",
    "    \n",
    "min_country=min(country,key=country.get)\n",
    "max_country=max(country,key=country.get)\n",
    "print(country)\n",
    "print(min_country)\n",
    "print(max_country)"
   ]
  },
  {
   "cell_type": "markdown",
   "id": "684a89d1",
   "metadata": {},
   "source": [
    "# 8. WAP to merge two dictionaries given by user into one dictionary."
   ]
  },
  {
   "cell_type": "code",
   "execution_count": 1,
   "id": "39c21782",
   "metadata": {},
   "outputs": [
    {
     "name": "stdout",
     "output_type": "stream",
     "text": [
      "enetr the number of key-value pairs:2\n",
      "enter key:1\n",
      "enter value:aa\n",
      "enter key:2\n",
      "enter value:bb\n",
      "{'1': 'aa', '2': 'bb'}\n",
      "enetr the number of key-value pairs:2\n",
      "enter key:3\n",
      "enter value:cc\n",
      "enter key:4\n",
      "enter value:dd\n",
      "{'3': 'cc', '4': 'dd'}\n",
      "{'1': 'aa', '2': 'bb', '3': 'cc', '4': 'dd'}\n"
     ]
    }
   ],
   "source": [
    "range1=int(input(\"enetr the number of key-value pairs:\"))\n",
    "d1={}\n",
    "for i in range(range1):\n",
    "    key=input(\"enter key:\")\n",
    "    value=input(\"enter value:\")\n",
    "    d1[key]=value\n",
    "print(d1)\n",
    "\n",
    "range2=int(input(\"enetr the number of key-value pairs:\"))\n",
    "d2={}\n",
    "for i in range(range2):\n",
    "    key=input(\"enter key:\")\n",
    "    value=input(\"enter value:\")\n",
    "    d2[key]=value\n",
    "print(d2)\n",
    "\n",
    "d3=d1|d2\n",
    "print(d3)"
   ]
  },
  {
   "cell_type": "markdown",
   "id": "58dd980c",
   "metadata": {},
   "source": [
    "# 9. WAP to convert two lists into a dictionary."
   ]
  },
  {
   "cell_type": "code",
   "execution_count": 4,
   "id": "764e2b3c",
   "metadata": {},
   "outputs": [
    {
     "ename": "SyntaxError",
     "evalue": "invalid syntax (1894084542.py, line 5)",
     "output_type": "error",
     "traceback": [
      "\u001b[1;36m  Input \u001b[1;32mIn [4]\u001b[1;36m\u001b[0m\n\u001b[1;33m    for i in range(len(keys):\u001b[0m\n\u001b[1;37m                            ^\u001b[0m\n\u001b[1;31mSyntaxError\u001b[0m\u001b[1;31m:\u001b[0m invalid syntax\n"
     ]
    }
   ],
   "source": [
    "keys=['name','age','height']\n",
    "values=['abc','25','23']\n",
    "my_dict={}\n",
    "\n",
    "for i in range(len(keys):\n",
    "    my_dict[key[i]]=values[i]\n",
    "print(my_dict)"
   ]
  },
  {
   "cell_type": "markdown",
   "id": "6254c6df",
   "metadata": {},
   "source": [
    "# 10. WAP to map two lists into a dictionary."
   ]
  },
  {
   "cell_type": "code",
   "execution_count": null,
   "id": "b991bb2d",
   "metadata": {},
   "outputs": [],
   "source": []
  },
  {
   "cell_type": "markdown",
   "id": "c6105056",
   "metadata": {},
   "source": [
    "# B programs\n",
    "# 1. WAP to remove all the duplicate words from the list using dictionary."
   ]
  },
  {
   "cell_type": "code",
   "execution_count": null,
   "id": "0bbb7329",
   "metadata": {},
   "outputs": [],
   "source": []
  },
  {
   "cell_type": "markdown",
   "id": "8ba7f878",
   "metadata": {},
   "source": [
    "# 2. WAP to count frequency or occurrence of list element from a list using a dictionary."
   ]
  },
  {
   "cell_type": "code",
   "execution_count": null,
   "id": "a3823baa",
   "metadata": {},
   "outputs": [],
   "source": []
  },
  {
   "cell_type": "markdown",
   "id": "baf5ce70",
   "metadata": {},
   "source": [
    "# 3. Write a Python program to create and display all combinations of letters, selecting each letter from a different key in a dictionary."
   ]
  },
  {
   "cell_type": "code",
   "execution_count": null,
   "id": "a02d4ed4",
   "metadata": {},
   "outputs": [],
   "source": []
  },
  {
   "cell_type": "markdown",
   "id": "00bade4d",
   "metadata": {},
   "source": [
    "# 4. WAP to print all unique values in a dictionary."
   ]
  },
  {
   "cell_type": "code",
   "execution_count": null,
   "id": "30d06cdc",
   "metadata": {},
   "outputs": [],
   "source": []
  },
  {
   "cell_type": "markdown",
   "id": "31b8bf24",
   "metadata": {},
   "source": [
    "# 5. WAP to replace words from Dictionary using: 1) split(), get() and join() and 2) list comprehension and join()."
   ]
  },
  {
   "cell_type": "code",
   "execution_count": null,
   "id": "994d8fc1",
   "metadata": {},
   "outputs": [],
   "source": []
  }
 ],
 "metadata": {
  "kernelspec": {
   "display_name": "Python 3 (ipykernel)",
   "language": "python",
   "name": "python3"
  },
  "language_info": {
   "codemirror_mode": {
    "name": "ipython",
    "version": 3
   },
   "file_extension": ".py",
   "mimetype": "text/x-python",
   "name": "python",
   "nbconvert_exporter": "python",
   "pygments_lexer": "ipython3",
   "version": "3.9.12"
  }
 },
 "nbformat": 4,
 "nbformat_minor": 5
}
