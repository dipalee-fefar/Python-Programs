{
 "cells": [
  {
   "cell_type": "markdown",
   "id": "89fa556a",
   "metadata": {},
   "source": [
    "Write a python program to print “Hello Students”."
   ]
  },
  {
   "cell_type": "code",
   "execution_count": 1,
   "id": "fe20d88c",
   "metadata": {},
   "outputs": [
    {
     "name": "stdout",
     "output_type": "stream",
     "text": [
      "Hello Student\n"
     ]
    }
   ],
   "source": [
    "print(\"Hello Student\")"
   ]
  },
  {
   "cell_type": "markdown",
   "id": "e713e4c1",
   "metadata": {},
   "source": [
    "Write a program to print your address i) using single print ii) using multiple print."
   ]
  },
  {
   "cell_type": "code",
   "execution_count": 3,
   "id": "f1a2ba16",
   "metadata": {},
   "outputs": [
    {
     "name": "stdout",
     "output_type": "stream",
     "text": [
      "Darshan University\n",
      "Rajkot\n",
      "Darshan Unversity Rajkot\n"
     ]
    }
   ],
   "source": [
    "#multiple print\n",
    "print(\"Darshan University\")\n",
    "print(\"Rajkot\")\n",
    "\n",
    "#single print\n",
    "print(\"Darshan Unversity\",\"Rajkot\")"
   ]
  },
  {
   "cell_type": "markdown",
   "id": "ef2282a4",
   "metadata": {},
   "source": [
    "Write a program to print addition of two numbers (without input function)."
   ]
  },
  {
   "cell_type": "code",
   "execution_count": 4,
   "id": "d93e3cd8",
   "metadata": {},
   "outputs": [
    {
     "name": "stdout",
     "output_type": "stream",
     "text": [
      "30\n"
     ]
    }
   ],
   "source": [
    "a=10\n",
    "b=20\n",
    "print(a+b)"
   ]
  },
  {
   "cell_type": "markdown",
   "id": "70f266aa",
   "metadata": {},
   "source": [
    "Write a program to calculate and print average of two numbers (without input function)."
   ]
  },
  {
   "cell_type": "code",
   "execution_count": 5,
   "id": "7861a9e3",
   "metadata": {},
   "outputs": [
    {
     "name": "stdout",
     "output_type": "stream",
     "text": [
      "15.0\n"
     ]
    }
   ],
   "source": [
    "a=10\n",
    "b=20\n",
    "c=((a+b)/2)\n",
    "print(c)"
   ]
  },
  {
   "cell_type": "markdown",
   "id": "b14e6b8b",
   "metadata": {},
   "source": [
    "Write a program to raise indentation error and correct it."
   ]
  },
  {
   "cell_type": "code",
   "execution_count": 6,
   "id": "757f7983",
   "metadata": {},
   "outputs": [
    {
     "name": "stdout",
     "output_type": "stream",
     "text": [
      "positive\n"
     ]
    }
   ],
   "source": [
    "a=5\n",
    "if(a>0):\n",
    "    print(\"positive\")"
   ]
  },
  {
   "cell_type": "markdown",
   "id": "984c8ec5",
   "metadata": {},
   "source": [
    "Write a program that prints \"Hello-World\" using seprator"
   ]
  },
  {
   "cell_type": "code",
   "execution_count": 7,
   "id": "0d883dc3",
   "metadata": {},
   "outputs": [
    {
     "name": "stdout",
     "output_type": "stream",
     "text": [
      "Hello-World\n"
     ]
    }
   ],
   "source": [
    "print(\"Hello\",end=\"-\")\n",
    "print(\"World\")"
   ]
  },
  {
   "cell_type": "markdown",
   "id": "643e46b5",
   "metadata": {},
   "source": [
    "Write a program that prints \"Hello-DU Hello DU \" using seperator and using end"
   ]
  },
  {
   "cell_type": "code",
   "execution_count": 8,
   "id": "8eff25be",
   "metadata": {},
   "outputs": [
    {
     "name": "stdout",
     "output_type": "stream",
     "text": [
      "Hello-DU\n",
      "Hello DU\n"
     ]
    }
   ],
   "source": [
    "print(\"Hello\",end=\"-\")\n",
    "print(\"DU\")\n",
    "\n",
    "print(\"Hello DU\")"
   ]
  },
  {
   "cell_type": "code",
   "execution_count": null,
   "id": "22f5a325",
   "metadata": {},
   "outputs": [],
   "source": []
  }
 ],
 "metadata": {
  "kernelspec": {
   "display_name": "Python 3 (ipykernel)",
   "language": "python",
   "name": "python3"
  },
  "language_info": {
   "codemirror_mode": {
    "name": "ipython",
    "version": 3
   },
   "file_extension": ".py",
   "mimetype": "text/x-python",
   "name": "python",
   "nbconvert_exporter": "python",
   "pygments_lexer": "ipython3",
   "version": "3.11.5"
  }
 },
 "nbformat": 4,
 "nbformat_minor": 5
}
