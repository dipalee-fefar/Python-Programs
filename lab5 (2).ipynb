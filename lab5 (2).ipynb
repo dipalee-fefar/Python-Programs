{
 "cells": [
  {
   "cell_type": "markdown",
   "id": "b82d8580",
   "metadata": {},
   "source": [
    "___\n",
    "<a href='https://www.darshan.ac.in/'><center> <img width=20% height=20% src='https://www.darshan.ac.in/Content/media/DU_Logo.svg'/></center></a>\n",
    "<pre>\n",
    "<center><b>Python</b></center>\n",
    "<center><b>Lab - 5(LOOP)</b></center>    \n",
    "</pre>\n",
    "____"
   ]
  },
  {
   "cell_type": "markdown",
   "id": "cd356d2e",
   "metadata": {},
   "source": [
    "<pre>\n",
    "<h3> <p style=\"color:red\"> USING WHILE LOOP</p> </h3>\n",
    "</pre>"
   ]
  },
  {
   "cell_type": "markdown",
   "id": "08782d2f",
   "metadata": {},
   "source": [
    "## 1) WAP to print 1 to n"
   ]
  },
  {
   "cell_type": "code",
   "execution_count": 1,
   "id": "a779ec4c",
   "metadata": {},
   "outputs": [
    {
     "name": "stdout",
     "output_type": "stream",
     "text": [
      "Enter your number: 10\n",
      "1\n",
      "2\n",
      "3\n",
      "4\n",
      "5\n",
      "6\n",
      "7\n",
      "8\n",
      "9\n",
      "10\n"
     ]
    }
   ],
   "source": [
    "a=int(input(\"Enter your number: \"))\n",
    "i=0\n",
    "while(i<a):\n",
    "    i=i+1\n",
    "    print(i)"
   ]
  },
  {
   "cell_type": "markdown",
   "id": "f6f64e52",
   "metadata": {},
   "source": [
    "## 2)WAP to print odd numbers between given two numbers."
   ]
  },
  {
   "cell_type": "code",
   "execution_count": 2,
   "id": "b1afec05",
   "metadata": {},
   "outputs": [
    {
     "name": "stdout",
     "output_type": "stream",
     "text": [
      "Enter first number: 10\n",
      "Enter second number: 30\n",
      "11\n",
      "13\n",
      "15\n",
      "17\n",
      "19\n",
      "21\n",
      "23\n",
      "25\n",
      "27\n",
      "29\n"
     ]
    }
   ],
   "source": [
    "a=int(input(\"Enter first number: \"))\n",
    "b=int(input(\"Enter second number: \"))\n",
    "i=a\n",
    "while(i<=b):\n",
    "    if(i%2!=0):\n",
    "        print(i)\n",
    "    i=i+1"
   ]
  },
  {
   "cell_type": "markdown",
   "id": "c371b88b",
   "metadata": {},
   "source": [
    " ## 3) WAP to print n number of sum"
   ]
  },
  {
   "cell_type": "code",
   "execution_count": 3,
   "id": "7ad02419",
   "metadata": {},
   "outputs": [
    {
     "name": "stdout",
     "output_type": "stream",
     "text": [
      "Enter Number: 5\n",
      "15\n"
     ]
    }
   ],
   "source": [
    "n=int(input(\"Enter Number: \"))\n",
    "i=0\n",
    "sum=0\n",
    "while(i<n):\n",
    "    i=i+1\n",
    "    sum=sum+i\n",
    "print(sum)"
   ]
  },
  {
   "cell_type": "markdown",
   "id": "113e4ad1",
   "metadata": {},
   "source": [
    "## 4) WAP to print sum of digits of given number."
   ]
  },
  {
   "cell_type": "code",
   "execution_count": 4,
   "id": "d025abb2",
   "metadata": {},
   "outputs": [
    {
     "name": "stdout",
     "output_type": "stream",
     "text": [
      "Enter Number: 1306\n",
      "10\n"
     ]
    }
   ],
   "source": [
    "num=int(input(\"Enter Number: \"))\n",
    "sum=0\n",
    "rem=0\n",
    "while(num!=0):\n",
    "    rem=num%10\n",
    "    sum=sum+rem\n",
    "    num=num//10\n",
    "print(sum)"
   ]
  },
  {
   "cell_type": "markdown",
   "id": "7a17299a",
   "metadata": {},
   "source": [
    "## 5)  WAP to find whether the given number is prime or not."
   ]
  },
  {
   "cell_type": "code",
   "execution_count": 5,
   "id": "a7ba0f41",
   "metadata": {},
   "outputs": [
    {
     "name": "stdout",
     "output_type": "stream",
     "text": [
      "Enter number: 9\n",
      "Not Prime\n"
     ]
    }
   ],
   "source": [
    "num=int(input(\"Enter number: \"))\n",
    "i=2\n",
    "flag=0\n",
    "while(i<(num/2)):\n",
    "    if(num%i==0):\n",
    "        flag=1\n",
    "        break\n",
    "    else:\n",
    "        i=i+1\n",
    "if(flag==0):\n",
    "    print(\"Prime\")\n",
    "else:\n",
    "    print(\"Not Prime\")"
   ]
  },
  {
   "cell_type": "markdown",
   "id": "babe992c",
   "metadata": {},
   "source": [
    "<pre>\n",
    "<h3><p style=\"color:red\"> USING FOR LOOP </p> </h3>\n",
    "</pre>"
   ]
  },
  {
   "cell_type": "markdown",
   "id": "a8a0a131",
   "metadata": {},
   "source": [
    "## 7) WAP to print sum of series 1–2+3–4+5–6+7...n"
   ]
  },
  {
   "cell_type": "code",
   "execution_count": 7,
   "id": "72de6a9c",
   "metadata": {},
   "outputs": [
    {
     "name": "stdout",
     "output_type": "stream",
     "text": [
      "Enter Number: 5\n",
      "3\n"
     ]
    }
   ],
   "source": [
    "n=int(input(\"Enter Number: \"))\n",
    "sum=0\n",
    "i=0\n",
    "for i in range(1,n+1):\n",
    "    if(n%i!=0):\n",
    "        sum=sum+i\n",
    "    else:\n",
    "        sum=sum-i\n",
    "print(sum)"
   ]
  },
  {
   "cell_type": "markdown",
   "id": "b503d505",
   "metadata": {},
   "source": [
    "## 8) WAP to print multiplication table of given number.(using for loop)"
   ]
  },
  {
   "cell_type": "code",
   "execution_count": 9,
   "id": "bf430fbf",
   "metadata": {},
   "outputs": [
    {
     "name": "stdout",
     "output_type": "stream",
     "text": [
      "Enter number: 2\n",
      "2*1=2\n",
      "2*2=4\n",
      "2*3=6\n",
      "2*4=8\n",
      "2*5=10\n",
      "2*6=12\n",
      "2*7=14\n",
      "2*8=16\n",
      "2*9=18\n",
      "2*10=20\n"
     ]
    }
   ],
   "source": [
    "n=int(input(\"Enter number: \"))\n",
    "for i in range(1,11):\n",
    "    print(f\"{n}*{i}={n*i}\")"
   ]
  },
  {
   "cell_type": "markdown",
   "id": "a3ffbd15",
   "metadata": {},
   "source": [
    "## 9) WAP to find factorial of the given number."
   ]
  },
  {
   "cell_type": "code",
   "execution_count": 10,
   "id": "537ac3e2",
   "metadata": {},
   "outputs": [
    {
     "name": "stdout",
     "output_type": "stream",
     "text": [
      "Enter number: 5\n",
      "120\n"
     ]
    }
   ],
   "source": [
    "n=int(input(\"Enter number: \"))\n",
    "i=0\n",
    "fact=1\n",
    "if n>1:\n",
    "    for i in range(1,n+1):\n",
    "        fact=fact*i\n",
    "    print(fact)"
   ]
  },
  {
   "cell_type": "markdown",
   "id": "4ebd2c8a",
   "metadata": {},
   "source": [
    "## 10) WAP to find out prime numbers between given two numbers."
   ]
  },
  {
   "cell_type": "code",
   "execution_count": 5,
   "id": "c4f8a0c1",
   "metadata": {},
   "outputs": [
    {
     "name": "stdout",
     "output_type": "stream",
     "text": [
      "Enter first number: 1\n",
      "Enter second number: 10\n",
      "2 Prime Number\n",
      "3 Prime Number\n",
      "5 Prime Number\n",
      "7 Prime Number\n"
     ]
    }
   ],
   "source": [
    "m=int(input(\"Enter first number: \"))\n",
    "n=int(input(\"Enter second number: \"))\n",
    "\n",
    "for num in range(m, n+1):\n",
    "    if num > 1:\n",
    "        flag = 0\n",
    "        for i in range(2, int(num/2) + 1):\n",
    "            if (num % i) == 0:\n",
    "                flag = 1\n",
    "                break\n",
    "        if flag == 0:\n",
    "            print(num,\"Prime Number\")"
   ]
  },
  {
   "cell_type": "markdown",
   "id": "7bd9cdd2",
   "metadata": {},
   "source": [
    "<h3><p style=\"color:red\">EXTRA</p></h3>"
   ]
  },
  {
   "cell_type": "markdown",
   "id": "93cb8a5d",
   "metadata": {},
   "source": [
    "## 1) WAP to Find largest prime factor of given number.\n"
   ]
  },
  {
   "cell_type": "code",
   "execution_count": 10,
   "id": "385b9715",
   "metadata": {},
   "outputs": [
    {
     "name": "stdout",
     "output_type": "stream",
     "text": [
      "Enter number19\n",
      "19\n"
     ]
    }
   ],
   "source": [
    "a=int(input(\"Enter number\"))\n",
    "max=0\n",
    "list1=list()\n",
    "for i in range(1,a+1):\n",
    "    if(a%i==0):\n",
    "        flag=0\n",
    "        for j in range(2,i//2+1):\n",
    "            if i%j==0:\n",
    "                flag=1\n",
    "        if flag==0:\n",
    "            if i>max:\n",
    "                max=i\n",
    "print(max)"
   ]
  },
  {
   "cell_type": "markdown",
   "id": "2e2c93ce",
   "metadata": {},
   "source": [
    "## 2) WAP to print Fibonacci series up to number given by user."
   ]
  },
  {
   "cell_type": "code",
   "execution_count": 6,
   "id": "19ae8538",
   "metadata": {},
   "outputs": [
    {
     "name": "stdout",
     "output_type": "stream",
     "text": [
      "Enter Number 5\n",
      "0\n",
      "1\n",
      "1\n",
      "2\n",
      "3\n"
     ]
    }
   ],
   "source": [
    "n=int(input(\"Enter Number \"))\n",
    "sum=0\n",
    "a=0\n",
    "b=1\n",
    "print('0')\n",
    "print('1')\n",
    "for num in range(0,n-2):\n",
    "    sum=a+b\n",
    "    a=b\n",
    "    b=sum\n",
    "    print(sum)"
   ]
  },
  {
   "cell_type": "markdown",
   "id": "1a9888e1",
   "metadata": {},
   "source": [
    "\n",
    "## 3) WAP to print all the number which are divisible by 11 but not divisible by 2 betweengiven two numbers."
   ]
  },
  {
   "cell_type": "code",
   "execution_count": 7,
   "id": "c11adc46",
   "metadata": {},
   "outputs": [
    {
     "name": "stdout",
     "output_type": "stream",
     "text": [
      "Enter 1st Number: 3\n",
      "Enter 2nd Number: 13\n",
      "11\n"
     ]
    }
   ],
   "source": [
    "a=int(input(\"Enter 1st Number: \"))\n",
    "b=int(input(\"Enter 2nd Number: \"))\n",
    "\n",
    "for num in range(a,b+1):\n",
    "    if(num%11==0 and num%2!=0):\n",
    "        print(num)"
   ]
  },
  {
   "cell_type": "code",
   "execution_count": null,
   "id": "35660a0a",
   "metadata": {},
   "outputs": [],
   "source": []
  }
 ],
 "metadata": {
  "kernelspec": {
   "display_name": "Python 3 (ipykernel)",
   "language": "python",
   "name": "python3"
  },
  "language_info": {
   "codemirror_mode": {
    "name": "ipython",
    "version": 3
   },
   "file_extension": ".py",
   "mimetype": "text/x-python",
   "name": "python",
   "nbconvert_exporter": "python",
   "pygments_lexer": "ipython3",
   "version": "3.9.12"
  }
 },
 "nbformat": 4,
 "nbformat_minor": 5
}
