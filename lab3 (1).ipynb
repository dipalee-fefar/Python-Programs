{
 "cells": [
  {
   "cell_type": "code",
   "execution_count": null,
   "id": "fd8a4f5f",
   "metadata": {},
   "outputs": [],
   "source": []
  },
  {
   "cell_type": "markdown",
   "id": "569ed6a1",
   "metadata": {},
   "source": [
    "## WAP to check whether the given number is positive or negative."
   ]
  },
  {
   "cell_type": "code",
   "execution_count": 4,
   "id": "b9d922e1",
   "metadata": {},
   "outputs": [
    {
     "name": "stdout",
     "output_type": "stream",
     "text": [
      "Enter any number :-1\n",
      "your number is Negative\n"
     ]
    }
   ],
   "source": [
    "a=int(input(\"Enter any number :\"))\n",
    "if(a>0):\n",
    "    print(\"Your number is positive\")\n",
    "else:\n",
    "    print(\"your number is Negative\")"
   ]
  },
  {
   "cell_type": "markdown",
   "id": "4850840c",
   "metadata": {},
   "source": [
    "## WAP to check whether the given number is odd or even."
   ]
  },
  {
   "cell_type": "code",
   "execution_count": 5,
   "id": "080879c4",
   "metadata": {},
   "outputs": [
    {
     "name": "stdout",
     "output_type": "stream",
     "text": [
      "Enter any number :9\n",
      "Your number is odd\n"
     ]
    }
   ],
   "source": [
    "a=int(input(\"Enter any number :\"))\n",
    "if(a%2==0):\n",
    "    print(\"Your number is even\")\n",
    "else:\n",
    "    print(\"Your number is odd\")"
   ]
  },
  {
   "cell_type": "markdown",
   "id": "b8e9de22",
   "metadata": {},
   "source": [
    "## WAP to find out largest number from given two numbers."
   ]
  },
  {
   "cell_type": "code",
   "execution_count": 7,
   "id": "78b9a233",
   "metadata": {},
   "outputs": [
    {
     "name": "stdout",
     "output_type": "stream",
     "text": [
      "Enter your first number :4\n",
      "Enter your second number :56\n",
      "56 is greater\n"
     ]
    }
   ],
   "source": [
    "a=int(input(\"Enter your first number :\"))\n",
    "b=int(input(\"Enter your second number :\"))\n",
    "if(a>b):\n",
    "    print(a,\"is greater\")\n",
    "else:\n",
    "    print(b,\"is greater\")"
   ]
  },
  {
   "cell_type": "markdown",
   "id": "1a60c2f1",
   "metadata": {},
   "source": [
    "## WAP to perform Addition, Subtraction, Multiplication and Division of numbers as per user’s choice."
   ]
  },
  {
   "cell_type": "code",
   "execution_count": 8,
   "id": "8a87f37d",
   "metadata": {},
   "outputs": [
    {
     "name": "stdout",
     "output_type": "stream",
     "text": [
      "Enter your first number :4\n",
      "Enter your second number :5\n",
      "Enter operation(+,-,*,/):+\n",
      "Addition of two numbers : 9\n"
     ]
    }
   ],
   "source": [
    "a=int(input(\"Enter your first number :\"))\n",
    "b=int(input(\"Enter your second number :\"))\n",
    "operation=input(\"Enter operation(+,-,*,/):\")\n",
    "if(operation=='+'):\n",
    "    print(\"Addition of two numbers :\",(a+b))\n",
    "elif(operation=='-'):\n",
    "    print(\"Subtraction of two numbers :\",(a-b))\n",
    "elif(operation=='*'):\n",
    "    print(\"Multiplication of two numbers :\",(a*b))\n",
    "elif(operation=='//*'):\n",
    "    print(\"Division of two numbers :\",(a/b))\n",
    "else:\n",
    "    print(\"Invalid input\")\n",
    "\n"
   ]
  },
  {
   "cell_type": "markdown",
   "id": "3390d1f8",
   "metadata": {},
   "source": [
    "# WAP to find out largest number from given three numbers."
   ]
  },
  {
   "cell_type": "code",
   "execution_count": 10,
   "id": "bfab04f5",
   "metadata": {},
   "outputs": [
    {
     "name": "stdout",
     "output_type": "stream",
     "text": [
      "Enter your first number :9\n",
      "Enter your second number :18\n",
      "Enter your third number :3\n",
      "18 is largest number.\n"
     ]
    }
   ],
   "source": [
    "a=int(input(\"Enter your first number :\"))\n",
    "b=int(input(\"Enter your second number :\"))\n",
    "c=int(input(\"Enter your third number :\"))\n",
    "if(a>b and a>c):\n",
    "    print(a,\"is largest Number.\")\n",
    "elif(b>c and b>a):\n",
    "    print(b,\"is largest number.\")\n",
    "else():\n",
    "    print(c,\"is largest number\")"
   ]
  },
  {
   "cell_type": "markdown",
   "id": "f0c03c17",
   "metadata": {},
   "source": [
    "## WAP to given year is leap year or not."
   ]
  },
  {
   "cell_type": "code",
   "execution_count": 12,
   "id": "b3e99d22",
   "metadata": {},
   "outputs": [
    {
     "name": "stdout",
     "output_type": "stream",
     "text": [
      "Enter year :2016\n",
      "2016 year is leap year\n"
     ]
    }
   ],
   "source": [
    "n=int(input(\"Enter year :\"))\n",
    "if(n%4==0 and n%100!=0 or n%400==0):\n",
    "    print(n,\"year is leap year\")\n",
    "else:\n",
    "    print(n,\"year is not leap year\")"
   ]
  },
  {
   "cell_type": "markdown",
   "id": "48d9d456",
   "metadata": {},
   "source": [
    "## WAP to check whether a number is divisible by 5 and 11 or not."
   ]
  },
  {
   "cell_type": "code",
   "execution_count": 13,
   "id": "c5a360f9",
   "metadata": {},
   "outputs": [
    {
     "name": "stdout",
     "output_type": "stream",
     "text": [
      "Enter any number :55\n",
      "55 is not divisible by 5 and 11\n"
     ]
    }
   ],
   "source": [
    "a=int(input(\"Enter any number :\"))\n",
    "if(n%5==0 and n%11==0):\n",
    "    print(a,\"is divisible by 5 and 11\")\n",
    "else:\n",
    "    print(a,\"is not divisible by 5 and 11\")"
   ]
  },
  {
   "cell_type": "markdown",
   "id": "8d891d0f",
   "metadata": {},
   "source": [
    "## WAP to input week number and print weekday."
   ]
  },
  {
   "cell_type": "code",
   "execution_count": null,
   "id": "021f68f0",
   "metadata": {},
   "outputs": [],
   "source": [
    "a=int(input(\"Enter any number(1-7) :\"))\n",
    "if(a==1):\n",
    "    print(\"It's Sunday\")\n",
    "elif(a==2):\n",
    "    print(\"It's Monday\")\n",
    "elif(a==3):\n",
    "    print(\"It's Tuesday\")\n",
    "elif(a==4):\n",
    "    print(\"It's Wednesday\")\n",
    "elif(a==5):\n",
    "    print(\"It's Thursday\")\n",
    "elif(a==6):\n",
    "    print(\"It's Friday\")\n",
    "elif(a==7):\n",
    "    print(\"It's Saturday\")\n",
    "else:\n",
    "    print(\"Enter correct number\")"
   ]
  },
  {
   "cell_type": "markdown",
   "id": "da30d41b",
   "metadata": {},
   "source": [
    "## WAP to check whether entered character is vowel or not?"
   ]
  },
  {
   "cell_type": "code",
   "execution_count": 16,
   "id": "7e3ddc5d",
   "metadata": {},
   "outputs": [
    {
     "name": "stdout",
     "output_type": "stream",
     "text": [
      "Enter character :m\n",
      "Charcter is not vowel\n"
     ]
    }
   ],
   "source": [
    "n=input(\"Enter character :\")\n",
    "if n in \"aeiou\":\n",
    "    print(\"Character is Vowel\")\n",
    "if n in \"AEIOU\":\n",
    "    print(\"Character is Vowel\")\n",
    "else:\n",
    "    print(\"Charcter is not vowel\")"
   ]
  },
  {
   "cell_type": "markdown",
   "id": "e90f5507",
   "metadata": {},
   "source": [
    "## WAP to input electricity unit charges and calculate total electricity bill according to the given condition:\n",
    "<pre>\n",
    "For first 50 units Rs. 0.50/unit\n",
    "For next 100 units Rs. 0.75/unit\n",
    "For next 100 units Rs. 1.20/unit\n",
    "For unit above 250 Rs. 1.50/unit\n",
    "An additional surcharge of 20% is added to the bill.\n",
    "</pre>\n"
   ]
  },
  {
   "cell_type": "code",
   "execution_count": 25,
   "id": "b05f7a5e",
   "metadata": {},
   "outputs": [
    {
     "name": "stdout",
     "output_type": "stream",
     "text": [
      "Enter an unit :200\n",
      "Your bill is 192.0\n"
     ]
    }
   ],
   "source": [
    "u=int(input(\"Enter an unit :\"))\n",
    "total_bill=0.0\n",
    "if(u<=50):\n",
    "    total_bill=u*0.5\n",
    "elif(u<=150):\n",
    "    total_bill=(50*0.5)+(u-50)*0.75\n",
    "elif(u<=250):\n",
    "    total_bill=(50*0.5)+100*0.75+(u-150)*1.20\n",
    "else:\n",
    "    total_bill=(50*0.5)+(100*0.75)+(100*1.20)+(u-250)*1.50\n",
    "total_bill=total_bill+total_bill*0.20\n",
    "print(\"Your bill is\",total_bill)"
   ]
  },
  {
   "cell_type": "markdown",
   "id": "3365bba5",
   "metadata": {},
   "source": [
    "## WAP to read marks of five subjects. Calculate percentage and print class accordingly.    Fail below 35, Pass Class between 35 to 45, Second Class between 45 to 60, First Class between 60 to 70, Distinction if more than 70."
   ]
  },
  {
   "cell_type": "code",
   "execution_count": 29,
   "id": "9cc7b9ea",
   "metadata": {},
   "outputs": [
    {
     "name": "stdout",
     "output_type": "stream",
     "text": [
      "Enetr m190\n",
      "Enetr m280\n",
      "Enetr m370\n",
      "Enetr m465\n",
      "Enetr m570\n",
      "First class\n"
     ]
    }
   ],
   "source": [
    "m1=int(input(\"Enetr m1\"))\n",
    "m2=int(input(\"Enetr m2\"))\n",
    "m3=int(input(\"Enetr m3\"))\n",
    "m4=int(input(\"Enetr m4\"))\n",
    "m5=int(input(\"Enetr m5\"))\n",
    "percentage=((m1+m2+m3+m4+m5)/100)\n",
    "if(percentage>=70):\n",
    "    print(\"Distinction\")\n",
    "elif(percentage<=60):\n",
    "    print(\"First class\")\n",
    "elif(percentage<=45):\n",
    "    print(\"Second class\")\n",
    "elif(percentage<=35):\n",
    "    print(\"Pass class\")\n",
    "else:\n",
    "    print(\"Fial\")"
   ]
  },
  {
   "cell_type": "code",
   "execution_count": null,
   "id": "c9354d4b",
   "metadata": {},
   "outputs": [],
   "source": []
  }
 ],
 "metadata": {
  "kernelspec": {
   "display_name": "Python 3 (ipykernel)",
   "language": "python",
   "name": "python3"
  },
  "language_info": {
   "codemirror_mode": {
    "name": "ipython",
    "version": 3
   },
   "file_extension": ".py",
   "mimetype": "text/x-python",
   "name": "python",
   "nbconvert_exporter": "python",
   "pygments_lexer": "ipython3",
   "version": "3.9.12"
  }
 },
 "nbformat": 4,
 "nbformat_minor": 5
}
