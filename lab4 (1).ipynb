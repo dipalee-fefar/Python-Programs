{
 "cells": [
  {
   "cell_type": "markdown",
   "id": "672cef4a",
   "metadata": {},
   "source": [
    "___\n",
    "<a href='https://www.darshan.ac.in/'><center> <img width=20% height=20% src='https://www.darshan.ac.in/Content/media/DU_Logo.svg'/></center></a>\n",
    "<pre>\n",
    "<center><b>Python</b></center>\n",
    "<center><b>Lab - 4(String)</b></center>    \n",
    "</pre>\n",
    "____"
   ]
  },
  {
   "cell_type": "markdown",
   "id": "26152a63",
   "metadata": {},
   "source": [
    "## 01) WAP to check given string is palindrome or not.\n"
   ]
  },
  {
   "cell_type": "code",
   "execution_count": 34,
   "id": "2eddb2af",
   "metadata": {},
   "outputs": [
    {
     "name": "stdout",
     "output_type": "stream",
     "text": [
      "Enter your Stringwow\n",
      "wow is palindrom\n"
     ]
    }
   ],
   "source": [
    "str=input(\"Enter your String\")\n",
    "rev=str[ : :-1]\n",
    "if(str==rev):\n",
    "    print(str,\"is palindrom\")\n",
    "else:\n",
    "    print(str,\"is not palindrom\")"
   ]
  },
  {
   "cell_type": "markdown",
   "id": "27b73f24",
   "metadata": {},
   "source": [
    "## 02) WAP to reverse the word in given string.\n"
   ]
  },
  {
   "cell_type": "code",
   "execution_count": 13,
   "id": "15d61738",
   "metadata": {},
   "outputs": [
    {
     "name": "stdout",
     "output_type": "stream",
     "text": [
      "Enter your String hi hello\n",
      "hello hi\n"
     ]
    }
   ],
   "source": [
    "str=input(\"Enter your String \")\n",
    "list1=str.split(\" \")\n",
    "list1=list1[ : :-1]\n",
    "str=' '.join(list1)\n",
    "print(str)"
   ]
  },
  {
   "cell_type": "markdown",
   "id": "6ccfbb86",
   "metadata": {},
   "source": [
    "## 03) WAP to remove ith character from given string."
   ]
  },
  {
   "cell_type": "code",
   "execution_count": null,
   "id": "02619f39",
   "metadata": {},
   "outputs": [],
   "source": [
    "str=input(\"Enter your String \")\n",
    "i=int(input(\"Enter index you want to remove \"))\n",
    "print(str[:i]+str[i+1:])"
   ]
  },
  {
   "cell_type": "markdown",
   "id": "2eeb59f5",
   "metadata": {},
   "source": [
    "## 04) WAP to print even length word in string"
   ]
  },
  {
   "cell_type": "code",
   "execution_count": 29,
   "id": "d3168c2a",
   "metadata": {},
   "outputs": [
    {
     "name": "stdout",
     "output_type": "stream",
     "text": [
      "Enter string hi dipalee\n",
      "hi\n"
     ]
    }
   ],
   "source": [
    "str=input(\"Enter string \")\n",
    "list1=str.split(\" \")\n",
    "a=len(list1)\n",
    "i=0\n",
    "while(a!=0):\n",
    "    strn=list1[i]\n",
    "    l=len(strn)\n",
    "    if(l%2==0):\n",
    "        print(strn)\n",
    "    i=i+1\n",
    "    a=a-1"
   ]
  },
  {
   "cell_type": "markdown",
   "id": "18c8db8a",
   "metadata": {},
   "source": [
    "## 05) WAP to find length of String without using len function."
   ]
  },
  {
   "cell_type": "code",
   "execution_count": 38,
   "id": "0c2e1ee2",
   "metadata": {},
   "outputs": [
    {
     "name": "stdout",
     "output_type": "stream",
     "text": [
      "enter your string dipalee\n",
      "7\n"
     ]
    }
   ],
   "source": [
    "a=input(\"enter your string \")\n",
    "count=0\n",
    "while a:\n",
    "    a=a[1: ]\n",
    "    count=count+1\n",
    "print(count)"
   ]
  },
  {
   "cell_type": "markdown",
   "id": "5cf1badf",
   "metadata": {},
   "source": [
    "## 06) WAP to count numbers of vowels in given string."
   ]
  },
  {
   "cell_type": "code",
   "execution_count": null,
   "id": "6106e32b",
   "metadata": {},
   "outputs": [],
   "source": [
    "str=input(\"Enter string\")\n",
    "vow=0\n",
    "for i in str:\n",
    "    if(i=='a' or i=='e' or i=='i' or i=='0' or i=='u' or i=='A' or i=='E' or i=='I' or i=='O' or i==\"U\"):\n",
    "        vow=vow+1\n",
    "    print(\"Number of vowel are : \",vow)"
   ]
  },
  {
   "cell_type": "markdown",
   "id": "cfe4d479",
   "metadata": {},
   "source": [
    "## 07) WAP to do String slicing\n",
    "\n",
    " a)\tLeft (Or anticlockwise) rotate the given string by d elements (where d <= n).\n",
    " \n",
    " \n",
    " b)\tRight (Or clockwise) rotate the given string by d elements (where d <= n).\n",
    "\n",
    " "
   ]
  },
  {
   "cell_type": "code",
   "execution_count": 14,
   "id": "963ca4d5",
   "metadata": {},
   "outputs": [
    {
     "name": "stdout",
     "output_type": "stream",
     "text": [
      "Enter index2\n",
      "da\n",
      "rshan\n",
      "rshanda\n",
      "andarsh\n"
     ]
    }
   ],
   "source": [
    "s=\"darshan\"\n",
    "i=int(input(\"Enter index\"))\n",
    "print(s[0:i])\n",
    "print(s[i:])\n",
    "sr=(s[i:]+s[0:i])\n",
    "print(sr)\n",
    "\n",
    "sl=(s[len(s)-i:]+s[0:len(s)-i])\n",
    "print(sl)"
   ]
  },
  {
   "cell_type": "markdown",
   "id": "4b2e628b",
   "metadata": {},
   "source": [
    "## 08) WAP to count of o in this string. “RCqIoMkolU”   "
   ]
  },
  {
   "cell_type": "code",
   "execution_count": 18,
   "id": "aa3cc887",
   "metadata": {},
   "outputs": [
    {
     "name": "stdout",
     "output_type": "stream",
     "text": [
      "2\n"
     ]
    }
   ],
   "source": [
    "a=\"RCqloMkolU\"\n",
    "print(a.count('o'))"
   ]
  },
  {
   "cell_type": "markdown",
   "id": "901c53cf",
   "metadata": {},
   "source": [
    "<pre>\n",
    "<h3><p style=\"color:red\">EXTRA</p> </h3>\n",
    "</pre>"
   ]
  },
  {
   "cell_type": "markdown",
   "id": "6666227d",
   "metadata": {},
   "source": [
    "## 01) WAP which accepts a string as input to print \"Yes\" if the string is \"yes\" or \"YES\" or \"Yes\", otherwise print \"No\"."
   ]
  },
  {
   "cell_type": "code",
   "execution_count": 16,
   "id": "623fddb4",
   "metadata": {},
   "outputs": [
    {
     "name": "stdout",
     "output_type": "stream",
     "text": [
      "Entrer your string Hiiii\n",
      "Yes\n"
     ]
    }
   ],
   "source": [
    "a=input(\"Entrer your string \")\n",
    "if(a.islower()):\n",
    "    print(\"yes\")\n",
    "elif(a.isupper()):\n",
    "    print(\"YES\")\n",
    "elif(a.istitle()):\n",
    "    print(\"Yes\")\n",
    "else:\n",
    "    print(\"No\")"
   ]
  },
  {
   "cell_type": "markdown",
   "id": "f51659a2",
   "metadata": {},
   "source": [
    "## 02) WAP to find all duplicate characters in string."
   ]
  },
  {
   "cell_type": "code",
   "execution_count": 31,
   "id": "d30705ae",
   "metadata": {},
   "outputs": [
    {
     "name": "stdout",
     "output_type": "stream",
     "text": [
      "Enter stringhiiii\n",
      "i\n"
     ]
    }
   ],
   "source": [
    "str=input(\"Enter string\")\n",
    "list1=list(str)\n",
    "list2=[]\n",
    "l=len(str)\n",
    "for i in range(0,l):\n",
    "   for j in range(i+1,l):\n",
    "     if(list1[i]==list1[j]):\n",
    "        if list1[i] not in list2:\n",
    "          list2.append(list1[i])  \n",
    "          print(list1[i])"
   ]
  },
  {
   "cell_type": "code",
   "execution_count": null,
   "id": "379473f0",
   "metadata": {},
   "outputs": [],
   "source": []
  },
  {
   "cell_type": "code",
   "execution_count": null,
   "id": "e69c7cb1",
   "metadata": {},
   "outputs": [],
   "source": []
  },
  {
   "cell_type": "code",
   "execution_count": null,
   "id": "1e10ca1a",
   "metadata": {},
   "outputs": [],
   "source": []
  }
 ],
 "metadata": {
  "kernelspec": {
   "display_name": "Python 3 (ipykernel)",
   "language": "python",
   "name": "python3"
  },
  "language_info": {
   "codemirror_mode": {
    "name": "ipython",
    "version": 3
   },
   "file_extension": ".py",
   "mimetype": "text/x-python",
   "name": "python",
   "nbconvert_exporter": "python",
   "pygments_lexer": "ipython3",
   "version": "3.9.12"
  }
 },
 "nbformat": 4,
 "nbformat_minor": 5
}
